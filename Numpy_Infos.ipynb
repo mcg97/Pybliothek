{
 "cells": [
  {
   "cell_type": "markdown",
   "id": "0148ded0",
   "metadata": {
    "toc": true
   },
   "source": [
    "<h1>Table of Contents<span class=\"tocSkip\"></span></h1>\n",
    "<div class=\"toc\"><ul class=\"toc-item\"><li><span><a href=\"#Imports\" data-toc-modified-id=\"Imports-1\"><span class=\"toc-item-num\">1&nbsp;&nbsp;</span>Imports</a></span></li><li><span><a href=\"#Anlegen-+-Konvertierung\" data-toc-modified-id=\"Anlegen-+-Konvertierung-2\"><span class=\"toc-item-num\">2&nbsp;&nbsp;</span>Anlegen + Konvertierung</a></span></li><li><span><a href=\"#Diverse-Arrays-erzeugen\" data-toc-modified-id=\"Diverse-Arrays-erzeugen-3\"><span class=\"toc-item-num\">3&nbsp;&nbsp;</span>Diverse Arrays erzeugen</a></span></li><li><span><a href=\"#Attribute\" data-toc-modified-id=\"Attribute-4\"><span class=\"toc-item-num\">4&nbsp;&nbsp;</span>Attribute</a></span><ul class=\"toc-item\"><li><span><a href=\"#Indizierung\" data-toc-modified-id=\"Indizierung-4.1\"><span class=\"toc-item-num\">4.1&nbsp;&nbsp;</span>Indizierung</a></span></li><li><span><a href=\"#Slicing\" data-toc-modified-id=\"Slicing-4.2\"><span class=\"toc-item-num\">4.2&nbsp;&nbsp;</span>Slicing</a></span><ul class=\"toc-item\"><li><span><a href=\"#Array-kopieren\" data-toc-modified-id=\"Array-kopieren-4.2.1\"><span class=\"toc-item-num\">4.2.1&nbsp;&nbsp;</span>Array kopieren</a></span></li></ul></li><li><span><a href=\"#Umformen\" data-toc-modified-id=\"Umformen-4.3\"><span class=\"toc-item-num\">4.3&nbsp;&nbsp;</span>Umformen</a></span></li><li><span><a href=\"#Verketten\" data-toc-modified-id=\"Verketten-4.4\"><span class=\"toc-item-num\">4.4&nbsp;&nbsp;</span>Verketten</a></span><ul class=\"toc-item\"><li><span><a href=\"#Addition,-Substraktion,-Division,-Multiplikation-&amp;-Modulu\" data-toc-modified-id=\"Addition,-Substraktion,-Division,-Multiplikation-&amp;-Modulu-4.4.1\"><span class=\"toc-item-num\">4.4.1&nbsp;&nbsp;</span>Addition, Substraktion, Division, Multiplikation &amp; Modulu</a></span></li><li><span><a href=\"#Lineare-Algebra\" data-toc-modified-id=\"Lineare-Algebra-4.4.2\"><span class=\"toc-item-num\">4.4.2&nbsp;&nbsp;</span>Lineare Algebra</a></span></li><li><span><a href=\"#Problem-horizontal\" data-toc-modified-id=\"Problem-horizontal-4.4.3\"><span class=\"toc-item-num\">4.4.3&nbsp;&nbsp;</span>Problem horizontal</a></span></li></ul></li><li><span><a href=\"#Aufteilen\" data-toc-modified-id=\"Aufteilen-4.5\"><span class=\"toc-item-num\">4.5&nbsp;&nbsp;</span>Aufteilen</a></span></li></ul></li><li><span><a href=\"#Funktionen\" data-toc-modified-id=\"Funktionen-5\"><span class=\"toc-item-num\">5&nbsp;&nbsp;</span>Funktionen</a></span><ul class=\"toc-item\"><li><span><a href=\"#UFuncs\" data-toc-modified-id=\"UFuncs-5.1\"><span class=\"toc-item-num\">5.1&nbsp;&nbsp;</span>UFuncs</a></span></li></ul></li><li><span><a href=\"#Multidimensionale-NumPy-Arrays\" data-toc-modified-id=\"Multidimensionale-NumPy-Arrays-6\"><span class=\"toc-item-num\">6&nbsp;&nbsp;</span>Multidimensionale NumPy Arrays</a></span><ul class=\"toc-item\"><li><span><a href=\"#Kleines-Anwendungunsbeispiel\" data-toc-modified-id=\"Kleines-Anwendungunsbeispiel-6.1\"><span class=\"toc-item-num\">6.1&nbsp;&nbsp;</span>Kleines Anwendungunsbeispiel</a></span></li><li><span><a href=\"#Großes-Anwendungsbeispiel\" data-toc-modified-id=\"Großes-Anwendungsbeispiel-6.2\"><span class=\"toc-item-num\">6.2&nbsp;&nbsp;</span>Großes Anwendungsbeispiel</a></span></li><li><span><a href=\"#Test-Float\" data-toc-modified-id=\"Test-Float-6.3\"><span class=\"toc-item-num\">6.3&nbsp;&nbsp;</span>Test Float</a></span></li></ul></li></ul></div>"
   ]
  },
  {
   "cell_type": "markdown",
   "id": "a37d7553",
   "metadata": {},
   "source": [
    "# Imports"
   ]
  },
  {
   "cell_type": "code",
   "execution_count": 1,
   "id": "71b2ced2",
   "metadata": {},
   "outputs": [
    {
     "name": "stdout",
     "output_type": "stream",
     "text": [
      "All good\n"
     ]
    }
   ],
   "source": [
    "%run Imports.ipynb"
   ]
  },
  {
   "cell_type": "markdown",
   "id": "00ed55f0",
   "metadata": {},
   "source": [
    "# Anlegen + Konvertierung"
   ]
  },
  {
   "cell_type": "code",
   "execution_count": 3,
   "id": "60389277",
   "metadata": {},
   "outputs": [
    {
     "data": {
      "text/plain": [
       "array([2, 3, 4, 5, 6, 7])"
      ]
     },
     "execution_count": 3,
     "metadata": {},
     "output_type": "execute_result"
    }
   ],
   "source": [
    "np.array([2,3,4,5,6,7])"
   ]
  },
  {
   "cell_type": "code",
   "execution_count": 4,
   "id": "3e389f69",
   "metadata": {},
   "outputs": [
    {
     "data": {
      "text/plain": [
       "array([2.   , 3.313, 3.   , 4.   , 5.   ])"
      ]
     },
     "execution_count": 4,
     "metadata": {},
     "output_type": "execute_result"
    }
   ],
   "source": [
    "np.array([2,3.313,3,4,5])\n",
    "\n",
    "# Sollten die Typen nicht übereinstimmen versucht NumPy sie zu konvertieren "
   ]
  },
  {
   "cell_type": "code",
   "execution_count": 5,
   "id": "ef3be289",
   "metadata": {},
   "outputs": [
    {
     "data": {
      "text/plain": [
       "array([2, 3, 4, 5, 6, 7])"
      ]
     },
     "execution_count": 5,
     "metadata": {},
     "output_type": "execute_result"
    }
   ],
   "source": [
    "np.array([2,3,4,5,6.4,7], dtype=int)\n",
    "\n",
    "# NumPy konvertiert die 6.4 in ein Integer Wert"
   ]
  },
  {
   "cell_type": "markdown",
   "id": "3f8dff42",
   "metadata": {},
   "source": [
    "# Diverse Arrays erzeugen"
   ]
  },
  {
   "cell_type": "code",
   "execution_count": 6,
   "id": "eab2cbd4",
   "metadata": {},
   "outputs": [
    {
     "data": {
      "text/plain": [
       "array([0, 0, 0, 0, 0, 0, 0, 0, 0, 0])"
      ]
     },
     "execution_count": 6,
     "metadata": {},
     "output_type": "execute_result"
    }
   ],
   "source": [
    "np.zeros(10, dtype=int)\n",
    "\n",
    "# Mit 0 gefülltes Array"
   ]
  },
  {
   "cell_type": "code",
   "execution_count": 7,
   "id": "40711f20",
   "metadata": {},
   "outputs": [
    {
     "data": {
      "text/plain": [
       "array([[1., 1., 1., 1., 1.],\n",
       "       [1., 1., 1., 1., 1.],\n",
       "       [1., 1., 1., 1., 1.]])"
      ]
     },
     "execution_count": 7,
     "metadata": {},
     "output_type": "execute_result"
    }
   ],
   "source": [
    "np.ones((3, 5), dtype=float)\n",
    "\n",
    "# Mit Einsen gefülltes 3x5-Array (Float)"
   ]
  },
  {
   "cell_type": "code",
   "execution_count": 8,
   "id": "f5ec7e7d",
   "metadata": {},
   "outputs": [
    {
     "data": {
      "text/plain": [
       "array([[3.14, 3.14, 3.14, 3.14, 3.14],\n",
       "       [3.14, 3.14, 3.14, 3.14, 3.14],\n",
       "       [3.14, 3.14, 3.14, 3.14, 3.14]])"
      ]
     },
     "execution_count": 8,
     "metadata": {},
     "output_type": "execute_result"
    }
   ],
   "source": [
    "np.full((3, 5), 3.14)\n",
    "\n",
    "# Mit 3.14 gefülltes 3x5-Array\n"
   ]
  },
  {
   "cell_type": "code",
   "execution_count": 9,
   "id": "b7f03362",
   "metadata": {},
   "outputs": [
    {
     "data": {
      "text/plain": [
       "array([[4., 4., 4.],\n",
       "       [4., 4., 4.],\n",
       "       [4., 4., 4.],\n",
       "       [4., 4., 4.]])"
      ]
     },
     "execution_count": 9,
     "metadata": {},
     "output_type": "execute_result"
    }
   ],
   "source": [
    "full_like_test_arr = np.ones((4, 3))\n",
    "np.full_like(full_like_test_arr, 4)\n",
    "\n",
    "# Array nach dem vorgegebenen Muster 4x3 erzeugen\n"
   ]
  },
  {
   "cell_type": "code",
   "execution_count": 10,
   "id": "a056bd41",
   "metadata": {},
   "outputs": [
    {
     "data": {
      "text/plain": [
       "array([ 0,  2,  4,  6,  8, 10, 12, 14, 16, 18])"
      ]
     },
     "execution_count": 10,
     "metadata": {},
     "output_type": "execute_result"
    }
   ],
   "source": [
    "np.arange(0, 20, 2)\n",
    "\n",
    "# Array von 0 bis 18 in 2er Schritten"
   ]
  },
  {
   "cell_type": "code",
   "execution_count": 11,
   "id": "581918b4",
   "metadata": {},
   "outputs": [
    {
     "data": {
      "text/plain": [
       "array([0.  , 0.25, 0.5 , 0.75, 1.  ])"
      ]
     },
     "execution_count": 11,
     "metadata": {},
     "output_type": "execute_result"
    }
   ],
   "source": [
    "np.linspace(0, 1, 5)\n",
    "\n",
    "# Array von 0 bis 1 in 5 gleich große Schritte eingeteilt"
   ]
  },
  {
   "cell_type": "code",
   "execution_count": 12,
   "id": "adf66e9f",
   "metadata": {},
   "outputs": [
    {
     "data": {
      "text/plain": [
       "array([[0.56369565, 0.3226465 , 0.21701199],\n",
       "       [0.61267394, 0.94077373, 0.69921792],\n",
       "       [0.32226996, 0.66891554, 0.70291827]])"
      ]
     },
     "execution_count": 12,
     "metadata": {},
     "output_type": "execute_result"
    }
   ],
   "source": [
    "np.random.random((3, 3))\n",
    "\n",
    "# 3x3-Array gleichmäßig verteilter Zufallszahlen zwischen 0 und 1"
   ]
  },
  {
   "cell_type": "code",
   "execution_count": 13,
   "id": "620ef221",
   "metadata": {},
   "outputs": [
    {
     "data": {
      "text/plain": [
       "array([[-0.65688071, -1.47378846, -1.81078806],\n",
       "       [ 0.16743369,  1.5837651 ,  1.60835972],\n",
       "       [ 0.72954633, -0.17090767,  0.14837451]])"
      ]
     },
     "execution_count": 13,
     "metadata": {},
     "output_type": "execute_result"
    }
   ],
   "source": [
    "np.random.normal(0, 1, (3, 3))\n",
    "\n",
    "# 3x3-Array normalverteilter Zufallszahlen mit\n",
    "# Mittelwert 0 und Standardabweichung 1 erzeugen"
   ]
  },
  {
   "cell_type": "code",
   "execution_count": 14,
   "id": "92acf829",
   "metadata": {},
   "outputs": [
    {
     "data": {
      "text/plain": [
       "array([[9, 6, 0],\n",
       "       [3, 0, 2],\n",
       "       [4, 3, 7]])"
      ]
     },
     "execution_count": 14,
     "metadata": {},
     "output_type": "execute_result"
    }
   ],
   "source": [
    "np.random.randint(0, 10, (3, 3))\n",
    "\n",
    "# 3x3-Array zufällige Integers aus dem\n",
    "# Intervall [0, 10) erzeugen"
   ]
  },
  {
   "cell_type": "code",
   "execution_count": 15,
   "id": "266ac7df",
   "metadata": {},
   "outputs": [
    {
     "name": "stdout",
     "output_type": "stream",
     "text": [
      "[[1. 0. 0.]\n",
      " [0. 1. 0.]\n",
      " [0. 0. 1.]]\n",
      "\n",
      "[[1. 0. 0.]\n",
      " [0. 1. 0.]\n",
      " [0. 0. 1.]]\n"
     ]
    }
   ],
   "source": [
    "print(np.identity(3))\n",
    "print(\"\")\n",
    "print(np.eye(3))\n",
    "\n",
    "# 3x3-Einheitsmatrix erzeugen"
   ]
  },
  {
   "cell_type": "code",
   "execution_count": 16,
   "id": "b4b26418",
   "metadata": {},
   "outputs": [
    {
     "name": "stdout",
     "output_type": "stream",
     "text": [
      "[[1 2 3]\n",
      " [1 2 3]\n",
      " [1 2 3]]\n"
     ]
    }
   ],
   "source": [
    "arr = np.array([[1,2,3]])\n",
    "arr_rep1 = np.repeat(arr,3, axis=0)\n",
    "print(arr_rep1)\n",
    "\n",
    "# Array wiederholen (Axis = 0 ist für Reihe)"
   ]
  },
  {
   "cell_type": "markdown",
   "id": "0e2de189",
   "metadata": {},
   "source": [
    "# Attribute"
   ]
  },
  {
   "cell_type": "code",
   "execution_count": 21,
   "id": "ef7ef686",
   "metadata": {
    "collapsed": true
   },
   "outputs": [
    {
     "name": "stdout",
     "output_type": "stream",
     "text": [
      "1D-Array\n",
      " [5 0 3 3 7 9] \n",
      "\n",
      "2D-Array\n",
      " [[3 5 2 4]\n",
      " [7 6 8 8]\n",
      " [1 6 7 7]] \n",
      "\n",
      "3D-Array\n",
      " [[[8 1 5 9 8]\n",
      "  [9 4 3 0 3]\n",
      "  [5 0 2 3 8]\n",
      "  [1 3 3 3 7]]\n",
      "\n",
      " [[0 1 9 9 0]\n",
      "  [4 7 3 2 7]\n",
      "  [2 0 0 4 5]\n",
      "  [5 6 8 4 1]]\n",
      "\n",
      " [[4 9 8 1 1]\n",
      "  [7 9 9 3 6]\n",
      "  [7 2 0 3 5]\n",
      "  [9 4 4 6 4]]] \n",
      "\n"
     ]
    }
   ],
   "source": [
    "# %%capture # Ausgabe unterdrücken\n",
    "\n",
    "np.random.seed(0) # Reproduzierbarkeit\n",
    "x1 = np.random.randint(10, size=6) # Eindimensionales Array \n",
    "x2 = np.random.randint(10, size=(3, 4)) # Zweidimensionales Array \n",
    "x3 = np.random.randint(10, size=(3, 4, 5)) # Dreidimensionales Array\n",
    "\n",
    "print(\"1D-Array\\n\",x1, \"\\n\")\n",
    "print(\"2D-Array\\n\",x2, \"\\n\")\n",
    "print(\"3D-Array\\n\",x3, \"\\n\")"
   ]
  },
  {
   "cell_type": "code",
   "execution_count": 23,
   "id": "b6e2a464",
   "metadata": {},
   "outputs": [
    {
     "name": "stdout",
     "output_type": "stream",
     "text": [
      "Dimensions:\t 3 \n",
      " Shape:\t (3, 4, 5) \n",
      " Size:\t 60\n"
     ]
    }
   ],
   "source": [
    "print(f\"Dimensions:\\t {x3.ndim} \\n Shape:\\t {x3.shape} \\n Size:\\t {x3.size}\")"
   ]
  },
  {
   "cell_type": "markdown",
   "id": "6bc406f4",
   "metadata": {},
   "source": [
    "## Indizierung"
   ]
  },
  {
   "cell_type": "code",
   "execution_count": 24,
   "id": "7057ca00",
   "metadata": {},
   "outputs": [
    {
     "name": "stdout",
     "output_type": "stream",
     "text": [
      "[5 0 3 3 7 9]\n",
      "letztes Element im Array: 9\n",
      "zweitletztes Element im Array: 7\n"
     ]
    }
   ],
   "source": [
    "print(x1)\n",
    "print(f\"letztes Element im Array: {x1[-1]}\")\n",
    "print(f\"zweitletztes Element im Array: {x1[-2]}\")\n"
   ]
  },
  {
   "cell_type": "code",
   "execution_count": 25,
   "id": "bc528fa8",
   "metadata": {},
   "outputs": [
    {
     "name": "stdout",
     "output_type": "stream",
     "text": [
      "[5 0 3 3 7 9]\n",
      "Ersten zwei Elemente: [5 0]\n",
      "Ab dem zweiten Element (bis Ende): [3 3 7 9]\n",
      "Teilmenge: [3 3]\n",
      "Jedes zweite Element: [5 3 7]\n",
      "Jedes zweite Element ab Index 1: [0 3 9]\n",
      "Alle Elemente in umgekehrter Reihenfolge: [9 7 3 3 0 5]\n",
      "Jedes Element in umgekehrter Reihenfolge ab Index 4: [7 3 3 0 5]\n"
     ]
    }
   ],
   "source": [
    "print(x1)\n",
    "print(f\"Ersten zwei Elemente: {x1[:2]}\") \n",
    "print(f\"Ab dem zweiten Element (bis Ende): {x1[2:]}\")\n",
    "print(f\"Teilmenge: {x1[2:4]}\") \n",
    "print(f\"Jedes zweite Element: {x1[::2]}\")\n",
    "print(f\"Jedes zweite Element ab Index 1: {x1[1::2]}\")\n",
    "\n",
    "print(f\"Alle Elemente in umgekehrter Reihenfolge: {x1[::-1]}\")\n",
    "print(f\"Jedes Element in umgekehrter Reihenfolge ab Index 4: {x1[4::-1]}\")\n"
   ]
  },
  {
   "cell_type": "markdown",
   "id": "42c0ea3e",
   "metadata": {},
   "source": [
    "Bezug auf umgekehrte Reihenfolge (vorherige Cell)\n",
    "* [5 0 3 3 7 9] => [9 7 3 3 0 5]\n",
    "* Jedes Element in umgekehrter Reihenfolge ab Index 4\n",
    "* [9 <b><i>7 3 3 0 5</i></b>]"
   ]
  },
  {
   "cell_type": "code",
   "execution_count": 26,
   "id": "9943c367",
   "metadata": {},
   "outputs": [
    {
     "name": "stdout",
     "output_type": "stream",
     "text": [
      "[3 7 1]\n",
      "[3 5 2 4]\n",
      "[3 5 2 4]\n"
     ]
    }
   ],
   "source": [
    "print(x2[:, 0]) # Erste Spalte von x2\n",
    "print(x2[0, :]) # Erste Zeile von x2\n",
    "print(x2[0]) # entspricht x2[0, :]"
   ]
  },
  {
   "cell_type": "markdown",
   "id": "e6dc32f4",
   "metadata": {},
   "source": [
    "## Slicing"
   ]
  },
  {
   "cell_type": "markdown",
   "id": "852aa9f4",
   "metadata": {},
   "source": [
    "Array-Slices sind keine Kopien der Array-Daten, sondern echte Views (Sichten). In diesem Punkt\n",
    "unterscheidet sich das Slicing von NumPy-Arrays vom Slicing von Python-\n",
    "Listen: Slices von Python-Listen sind nur Kopien"
   ]
  },
  {
   "cell_type": "code",
   "execution_count": 27,
   "id": "14702358",
   "metadata": {},
   "outputs": [
    {
     "name": "stdout",
     "output_type": "stream",
     "text": [
      "Array:\n",
      " [[3 5 2 4]\n",
      " [7 6 8 8]\n",
      " [1 6 7 7]] \n",
      "\n",
      "Sub-Array:\n",
      " [[3 5]\n",
      " [7 6]] \n",
      "\n",
      "Wert 99 an der Stelle 0.0 reinschreiben\n",
      "\n",
      "Verändertes Sub-Array:\n",
      " [[99  5]\n",
      " [ 7  6]] \n",
      "\n",
      "Verändertes Array:\n",
      " [[99  5  2  4]\n",
      " [ 7  6  8  8]\n",
      " [ 1  6  7  7]]\n"
     ]
    }
   ],
   "source": [
    "# Beispiel\n",
    "\n",
    "print(\"Array:\\n\",x2,\"\\n\")\n",
    "x2_sub = x2[:2, :2]\n",
    "print(\"Sub-Array:\\n\",x2_sub,\"\\n\")\n",
    "# Veränderung des ursprünglichen Arrays\n",
    "\n",
    "x2_sub[0, 0] = 99\n",
    "print(\"Wert 99 an der Stelle 0.0 reinschreiben\\n\")\n",
    "print(\"Verändertes Sub-Array:\\n\",x2_sub,\"\\n\")\n",
    "print(\"Verändertes Array:\\n\",x2)"
   ]
  },
  {
   "cell_type": "markdown",
   "id": "e3e20c7d",
   "metadata": {},
   "source": [
    "### Array kopieren"
   ]
  },
  {
   "cell_type": "code",
   "execution_count": 28,
   "id": "54b45840",
   "metadata": {},
   "outputs": [
    {
     "name": "stdout",
     "output_type": "stream",
     "text": [
      "Kopiertes sub-Array:\n",
      " [[99  5]\n",
      " [ 7  6]] \n",
      "\n",
      "Wert 42 an der Stelle 0.0 reinschreiben\n",
      "\n",
      "Kopiertes Sub-Array:\n",
      " [[42  5]\n",
      " [ 7  6]] \n",
      "\n",
      "Ursprüngliches Array:\n",
      " [[99  5  2  4]\n",
      " [ 7  6  8  8]\n",
      " [ 1  6  7  7]]\n"
     ]
    }
   ],
   "source": [
    "x2_sub_copy = x2[:2, :2].copy()\n",
    "print(\"Kopiertes sub-Array:\\n\",x2_sub_copy,\"\\n\")\n",
    "x2_sub_copy[0, 0] = 42\n",
    "print(\"Wert 42 an der Stelle 0.0 reinschreiben\\n\")\n",
    "print(\"Kopiertes Sub-Array:\\n\",x2_sub_copy,\"\\n\")\n",
    "print(\"Ursprüngliches Array:\\n\",x2)\n"
   ]
  },
  {
   "cell_type": "markdown",
   "id": "8f21dfe6",
   "metadata": {},
   "source": [
    "## Umformen"
   ]
  },
  {
   "cell_type": "markdown",
   "id": "2df6a15e",
   "metadata": {},
   "source": [
    "Eindimensionales Array in eine zweidimensionale Zeilen-oder Spaltenmatrix konvertieren mit Hilfe von der <b>reshape()-Methode</b> oder Slicing mit <b>newaxis</b>"
   ]
  },
  {
   "cell_type": "code",
   "execution_count": 29,
   "id": "098b5ae0",
   "metadata": {},
   "outputs": [
    {
     "name": "stdout",
     "output_type": "stream",
     "text": [
      "Array:  [1 2 3] \n",
      "\n",
      "Zeilenvektor newaxis:  [[1 2 3]] \n",
      "\n",
      "Spaltenvektor newaxis:\n",
      " [[1]\n",
      " [2]\n",
      " [3]] \n",
      "\n",
      "Zeilenvektor reshape:  [[1 2 3]] \n",
      "\n",
      "Spaltenvektor reshape:\n",
      " [[1]\n",
      " [2]\n",
      " [3]] \n",
      "\n"
     ]
    }
   ],
   "source": [
    "x = np.array([1, 2, 3])\n",
    "print(\"Array: \",x,\"\\n\")\n",
    "print(\"Zeilenvektor newaxis: \",x[np.newaxis, :],\"\\n\")\n",
    "print(\"Spaltenvektor newaxis:\\n\",x[:, np.newaxis],\"\\n\")\n",
    "print(\"Zeilenvektor reshape: \",x.reshape((1, 3)),\"\\n\")\n",
    "print(\"Spaltenvektor reshape:\\n\",x.reshape((3, 1)),\"\\n\")"
   ]
  },
  {
   "cell_type": "markdown",
   "id": "10daa9d7",
   "metadata": {},
   "source": [
    "Reshape verwendet -1 als Wert, um den Formwert zu bezeichnen, der die verbleibenden nicht spezifizierten Elemente verwenden wird. Wir könnten z.B. angeben, dass die erste Dimension die Länge 3 haben soll, und NumPy kann ausrechnen, dass die zweite Dimension die Länge 2 haben muss, und umgekehrt"
   ]
  },
  {
   "cell_type": "code",
   "execution_count": 30,
   "id": "f14ef922",
   "metadata": {},
   "outputs": [
    {
     "name": "stdout",
     "output_type": "stream",
     "text": [
      "[[2 3 4 5]\n",
      " [6 7 8 9]] \n",
      "\n",
      "[[2 3]\n",
      " [4 5]\n",
      " [6 7]\n",
      " [8 9]]\n"
     ]
    }
   ],
   "source": [
    "arr1d = np.arange(2,10)\n",
    "print(arr1d.reshape((2,-1)),\"\\n\")\n",
    "print(arr1d.reshape((-1,2)))"
   ]
  },
  {
   "cell_type": "markdown",
   "id": "247232cb",
   "metadata": {},
   "source": [
    "## Verketten"
   ]
  },
  {
   "cell_type": "markdown",
   "id": "2b7080e3",
   "metadata": {},
   "source": [
    "Verkettung oder Vereinigung zweier Arrays in NumPy wird vornehmlich mithilfe der Routinen <b>np.concatenate</b>, <b>np.vstack</b>, <b>np.hstack</b> und <b>np.dstack</b>\n",
    "\n",
    "<b>np.concatenate</b> nimmt ein Tupel oder eine Liste von Arrays als erstes Argument entgegen"
   ]
  },
  {
   "cell_type": "code",
   "execution_count": 31,
   "id": "31301cc6",
   "metadata": {},
   "outputs": [
    {
     "data": {
      "text/plain": [
       "array([ 1,  2,  3, 33, 22, 11])"
      ]
     },
     "execution_count": 31,
     "metadata": {},
     "output_type": "execute_result"
    }
   ],
   "source": [
    "# Beispiel np.concatenate\n",
    "\n",
    "x = np.array([1, 2, 3]) \n",
    "y = np.array([33, 22, 11]) \n",
    "np.concatenate([x, y])"
   ]
  },
  {
   "cell_type": "code",
   "execution_count": 32,
   "id": "7aa04a66",
   "metadata": {},
   "outputs": [
    {
     "name": "stdout",
     "output_type": "stream",
     "text": [
      "Arrays vertikal verketten:\n",
      " [[1 2 3]\n",
      " [9 8 7]\n",
      " [6 5 4]] \n",
      "\n",
      "Arrays horizontal verketten:\n",
      " [[ 9  8  7 99]\n",
      " [ 6  5  4 99]] \n",
      "\n",
      "Arrays entlang der dritten Dimension verketten:\n",
      " [[[1. 0.]\n",
      "  [1. 0.]]\n",
      "\n",
      " [[1. 0.]\n",
      "  [1. 0.]]]\n"
     ]
    }
   ],
   "source": [
    "# vstack()\n",
    "x = np.array([1, 2, 3]) \n",
    "grid = np.array([[9, 8, 7], [6, 5, 4]]) \n",
    "print(\"Arrays vertikal verketten:\\n\",np.vstack([x, grid]),\"\\n\")\n",
    "\n",
    "# hstack()\n",
    "y = np.array([[99], [99]])\n",
    "print(\"Arrays horizontal verketten:\\n\",np.hstack([grid, y]),\"\\n\")\n",
    "\n",
    "# dstack()\n",
    "z = np.ones((2,2))\n",
    "z_conc = np.zeros((2,2))\n",
    "print(\"Arrays entlang der dritten Dimension verketten:\\n\",np.dstack([z, z_conc]))"
   ]
  },
  {
   "cell_type": "markdown",
   "id": "e3d3a30a",
   "metadata": {},
   "source": [
    "### Addition, Substraktion, Division, Multiplikation & Modulu"
   ]
  },
  {
   "cell_type": "code",
   "execution_count": 33,
   "id": "13959891",
   "metadata": {},
   "outputs": [
    {
     "data": {
      "text/plain": [
       "array([[9, 8, 7],\n",
       "       [6, 5, 4]])"
      ]
     },
     "execution_count": 33,
     "metadata": {},
     "output_type": "execute_result"
    }
   ],
   "source": [
    "grid"
   ]
  },
  {
   "cell_type": "code",
   "execution_count": 34,
   "id": "098748bb",
   "metadata": {},
   "outputs": [
    {
     "data": {
      "text/plain": [
       "array([[12, 11, 10],\n",
       "       [ 9,  8,  7]])"
      ]
     },
     "execution_count": 34,
     "metadata": {},
     "output_type": "execute_result"
    }
   ],
   "source": [
    "grid + 3 # Addition"
   ]
  },
  {
   "cell_type": "code",
   "execution_count": 35,
   "id": "22840368",
   "metadata": {},
   "outputs": [
    {
     "data": {
      "text/plain": [
       "array([[-3, -4, -5],\n",
       "       [-6, -7, -8]])"
      ]
     },
     "execution_count": 35,
     "metadata": {},
     "output_type": "execute_result"
    }
   ],
   "source": [
    "grid - 12 # Substraktion"
   ]
  },
  {
   "cell_type": "code",
   "execution_count": 36,
   "id": "4d95dcbe",
   "metadata": {},
   "outputs": [
    {
     "data": {
      "text/plain": [
       "array([[2.25, 2.  , 1.75],\n",
       "       [1.5 , 1.25, 1.  ]])"
      ]
     },
     "execution_count": 36,
     "metadata": {},
     "output_type": "execute_result"
    }
   ],
   "source": [
    "grid / 4 # Division"
   ]
  },
  {
   "cell_type": "code",
   "execution_count": 37,
   "id": "ee48582e",
   "metadata": {},
   "outputs": [
    {
     "data": {
      "text/plain": [
       "array([[27, 24, 21],\n",
       "       [18, 15, 12]])"
      ]
     },
     "execution_count": 37,
     "metadata": {},
     "output_type": "execute_result"
    }
   ],
   "source": [
    "grid * 3 # Mulitplikation"
   ]
  },
  {
   "cell_type": "code",
   "execution_count": 38,
   "id": "fdfeb8bd",
   "metadata": {},
   "outputs": [
    {
     "data": {
      "text/plain": [
       "array([[1, 0, 3],\n",
       "       [2, 1, 0]], dtype=int32)"
      ]
     },
     "execution_count": 38,
     "metadata": {},
     "output_type": "execute_result"
    }
   ],
   "source": [
    "grid % 4 # Modulu"
   ]
  },
  {
   "cell_type": "markdown",
   "id": "25d29fcd",
   "metadata": {},
   "source": [
    "### Lineare Algebra"
   ]
  },
  {
   "cell_type": "markdown",
   "id": "a7977166",
   "metadata": {},
   "source": [
    "https://docs.scipy.org/doc/numpy/reference/routines.linalg.html"
   ]
  },
  {
   "cell_type": "code",
   "execution_count": 39,
   "id": "07d7daff",
   "metadata": {},
   "outputs": [
    {
     "name": "stdout",
     "output_type": "stream",
     "text": [
      "[[1. 1. 1.]\n",
      " [1. 1. 1.]]\n",
      "[[2 2]\n",
      " [2 2]\n",
      " [2 2]]\n"
     ]
    },
    {
     "data": {
      "text/plain": [
       "array([[6., 6.],\n",
       "       [6., 6.]])"
      ]
     },
     "execution_count": 39,
     "metadata": {},
     "output_type": "execute_result"
    }
   ],
   "source": [
    "a = np.ones((2,3))\n",
    "print(a)\n",
    "\n",
    "b = np.full((3,2), 2)\n",
    "print(b)\n",
    "\n",
    "np.matmul(a,b)"
   ]
  },
  {
   "cell_type": "code",
   "execution_count": 40,
   "id": "3d4e6198",
   "metadata": {},
   "outputs": [
    {
     "data": {
      "text/plain": [
       "1.0"
      ]
     },
     "execution_count": 40,
     "metadata": {},
     "output_type": "execute_result"
    }
   ],
   "source": [
    "# Suche des Determinanten\n",
    "\n",
    "c = np.identity(3)\n",
    "np.linalg.det(c)"
   ]
  },
  {
   "cell_type": "markdown",
   "id": "b25dfd2e",
   "metadata": {},
   "source": [
    "### Problem horizontal"
   ]
  },
  {
   "cell_type": "markdown",
   "id": "38e42fcf",
   "metadata": {},
   "source": [
    "Fehlermeldung: <br><br>\n",
    "ValueError: all the input array dimensions except for the concatenation axis must match exactly\n",
    "Das liegt daran, dass np.hstack nicht zwei Arrays mit <b>unterschiedlicher Zeilenanzahl</b> verketten kann.\n",
    "\n",
    "<br><br>\n",
    "$\\begin{bmatrix} 1 & 1 & 1 \\\\ 1 & 1 & 1 \\\\ 1 & 1 & 1 \\end{bmatrix}$ + \n",
    "$\\begin{bmatrix} 2 & 2 & 2 \\end{bmatrix}$ = ?\n",
    "<br><br>\n",
    "\n",
    "Wir können unsere neue Zeile auch nicht einfach transponieren (Spiegeln einer Matrix) , weil sie ein \n",
    "eindimensionales Array ist und ihre Transponierung die gleiche Form hat\n",
    "wie das Original. Also müssen wir sie zuerst <b>umformen</b>"
   ]
  },
  {
   "cell_type": "code",
   "execution_count": 41,
   "id": "3c75b3e0",
   "metadata": {},
   "outputs": [
    {
     "name": "stdout",
     "output_type": "stream",
     "text": [
      "Transponiertes Array:\n",
      " [[2]\n",
      " [2]\n",
      " [2]] \n",
      "\n",
      "Zusammengesetztes Array:\n",
      " [[1. 1. 1. 2.]\n",
      " [1. 1. 1. 2.]\n",
      " [1. 1. 1. 2.]]\n"
     ]
    }
   ],
   "source": [
    "a = np.ones((3, 3))\n",
    "b = np.array((2,2,2)).reshape(3,1)\n",
    "print(\"Transponiertes Array:\\n\",b,\"\\n\")\n",
    "print(\"Zusammengesetztes Array:\\n\",np.hstack((a, b)))"
   ]
  },
  {
   "cell_type": "markdown",
   "id": "5e15ba2f",
   "metadata": {},
   "source": [
    "## Aufteilen"
   ]
  },
  {
   "cell_type": "markdown",
   "id": "9d0f7da1",
   "metadata": {},
   "source": [
    "Die Umkehrfunktion des Verkettens ist das Aufteilen, das in Form der\n",
    "Funktionen <b>np.split, np.hsplit, np.vsplit und np.dsplit</b> implementiert ist. Dabei wird\n",
    "jeweils eine Liste mit Indizes zur Beschreibung der Aufteilungspunkte übergeben"
   ]
  },
  {
   "cell_type": "code",
   "execution_count": 42,
   "id": "b9760810",
   "metadata": {},
   "outputs": [
    {
     "name": "stdout",
     "output_type": "stream",
     "text": [
      "[1, 2, 3, 99, 99, 3, 2, 1] \n",
      "\n",
      "Array gesplitet an Stelle 3 und 5:\n",
      " [1 2 3] [99 99] [3 2 1] \n",
      " --------------------\n",
      "\n",
      "Array vsplit + hsplit:\n",
      " [[ 0  1  2  3]\n",
      " [ 4  5  6  7]\n",
      " [ 8  9 10 11]\n",
      " [12 13 14 15]] \n",
      "\n",
      "vsplit upper:\n",
      " [[0 1 2 3]\n",
      " [4 5 6 7]] \n",
      "\n",
      "vsplit lower:\n",
      " [[ 8  9 10 11]\n",
      " [12 13 14 15]] \n",
      "\n",
      "hsplit left:\n",
      " [[ 0  1]\n",
      " [ 4  5]\n",
      " [ 8  9]\n",
      " [12 13]] \n",
      "\n",
      "hsplit right:\n",
      " [[ 2  3]\n",
      " [ 6  7]\n",
      " [10 11]\n",
      " [14 15]] \n",
      "\n",
      "dsplit Array:\n",
      " [[[ 0.  1.  2.  3.]\n",
      "  [ 4.  5.  6.  7.]]\n",
      "\n",
      " [[ 8.  9. 10. 11.]\n",
      "  [12. 13. 14. 15.]]] \n",
      "\n",
      "dsplit in zwei gleichgroße Arrays:\n",
      " [array([[[ 0.,  1.],\n",
      "        [ 4.,  5.]],\n",
      "\n",
      "       [[ 8.,  9.],\n",
      "        [12., 13.]]]), array([[[ 2.,  3.],\n",
      "        [ 6.,  7.]],\n",
      "\n",
      "       [[10., 11.],\n",
      "        [14., 15.]]])] \n",
      "\n",
      "[array([[[ 0.,  1.,  2.],\n",
      "        [ 4.,  5.,  6.]],\n",
      "\n",
      "       [[ 8.,  9., 10.],\n",
      "        [12., 13., 14.]]]), array([[[ 3.],\n",
      "        [ 7.]],\n",
      "\n",
      "       [[11.],\n",
      "        [15.]]])]\n"
     ]
    }
   ],
   "source": [
    "# split()\n",
    "x = [1, 2, 3, 99, 99, 3, 2, 1]\n",
    "print(x,\"\\n\")\n",
    "x1, x2, x3 = np.split(x, [3, 5])\n",
    "print(\"Array gesplitet an Stelle 3 und 5:\\n\",x1, x2, x3,\"\\n\",\"--------------------\\n\")\n",
    "\n",
    "# vsplit()\n",
    "grid = np.arange(16).reshape((4, 4))\n",
    "print(\"Array vsplit + hsplit:\\n\",grid,\"\\n\")\n",
    "upper, lower = np.vsplit(grid,[2])\n",
    "print(\"vsplit upper:\\n\",upper,\"\\n\")\n",
    "print(\"vsplit lower:\\n\",lower,\"\\n\")\n",
    "\n",
    "# hsplit()\n",
    "left, right = np.hsplit(grid, [2]) \n",
    "print(\"hsplit left:\\n\",left,\"\\n\") \n",
    "print(\"hsplit right:\\n\",right,\"\\n\")\n",
    "\n",
    "# dsplit()\n",
    "dsplit_grid = np.arange(16.0).reshape(2, 2, 4)\n",
    "print(\"dsplit Array:\\n\",dsplit_grid,\"\\n\")\n",
    "print(\"dsplit in zwei gleichgroße Arrays:\\n\",np.dsplit(dsplit_grid,2),\"\\n\")\n",
    "\n",
    "# print(np.dsplit(dsplit_grid, np.array([3, 6])),\"\\n\\n\") # Warum 6?\n",
    "print(np.dsplit(dsplit_grid, np.array([3,]))) # Selbe Ergebnis wie [3,6]"
   ]
  },
  {
   "cell_type": "markdown",
   "id": "41157270",
   "metadata": {},
   "source": [
    "# Funktionen"
   ]
  },
  {
   "cell_type": "markdown",
   "id": "76697a38",
   "metadata": {},
   "source": [
    "Da Python eine dynamische, interpretierte Programmiersprache ist ist sie aufgrund der Flexibilität der Datentypen eine langsame Programmiersprache.\n",
    "\n",
    "Es stellt sich heraus, dass nicht die Rechenoperationen selbst den Engpass verursachen, sondern die Typüberprüfung und die Funktionsaufrufe, die Python beispielsweise bei jedem Durchlauf einer Schleife erledigen muss. Bei jeder Berechnung eines Kehrwerts überprüft Python zunächst den Objekttyp und muss dann die richtige Funktion ermitteln, die für diesen Typ anzuwenden ist."
   ]
  },
  {
   "cell_type": "markdown",
   "id": "d740a7cc",
   "metadata": {},
   "source": [
    "## UFuncs"
   ]
  },
  {
   "cell_type": "markdown",
   "id": "d09eae41",
   "metadata": {},
   "source": [
    "NumPy stellt für viele Operationen komfortable Schnittstellen bereit, um auf genau diese Art statisch typisierter kompilierter Routinen zuzugreifen. Man spricht hier von einer vektorisierten Operation."
   ]
  },
  {
   "cell_type": "code",
   "execution_count": 43,
   "id": "aa63144e",
   "metadata": {},
   "outputs": [
    {
     "name": "stdout",
     "output_type": "stream",
     "text": [
      "1.66 s ± 33.8 ms per loop (mean ± std. dev. of 7 runs, 1 loop each)\n",
      "2.71 ms ± 129 µs per loop (mean ± std. dev. of 7 runs, 100 loops each)\n"
     ]
    }
   ],
   "source": [
    "np.random.seed(0)\n",
    "def compute_reciprocals(values):\n",
    "    output = np.empty(len(values))\n",
    "    for i in range(len(values)):\n",
    "        output[i] = 1.0 / values[i]\n",
    "    return output\n",
    "\n",
    "big_array = np.random.randint(1, 100, size=1000000) \n",
    "%timeit compute_reciprocals(big_array)\n",
    "%timeit (1.0 / big_array)"
   ]
  },
  {
   "cell_type": "markdown",
   "id": "0721431b",
   "metadata": {},
   "source": [
    "Dieser vektorisierte Ansatz sorgt dafür, dass die Schleife durch den kompilierten Code ausgeführt wird, auf dem NumPy beruht, was zu einer sehr viel schnelleren Abarbeitung führt.\n",
    "\n",
    "In NumPy sind vektorisierte Operationen durch UFuncs implementiert, deren\n",
    "Hauptaufgabe es ist, wiederholt Berechnungen mit Werten in NumPy-Arrays\n",
    "schnell auszuführen.\n",
    "\n",
    "Bei UFuncs gibt es zwei Varianten (unäre (Einzelne) und binäre (Mehrere))"
   ]
  },
  {
   "cell_type": "markdown",
   "id": "32902db6",
   "metadata": {},
   "source": [
    "# Multidimensionale NumPy Arrays"
   ]
  },
  {
   "cell_type": "markdown",
   "id": "e4c9cc02",
   "metadata": {},
   "source": [
    "## Kleines Anwendungunsbeispiel"
   ]
  },
  {
   "cell_type": "markdown",
   "id": "384cb6c8",
   "metadata": {},
   "source": [
    "Suppose we want to use climate data like the temperature, rainfall, and humidity to determine if a region is well suited for growing apples. A simple approach for doing this would be to formulate the relationship between the annual yield of apples (tons per hectare) and the climatic conditions like the average temperature (in degrees Fahrenheit), rainfall (in millimeters) & average relative humidity (in percentage) as a linear equation.\n",
    "\n",
    "<b>yield_of_apples = w1 * temperature + w2 * rainfall + w3 * humidity</b>\n",
    "\n",
    "We're expressing the yield of apples as a weighted sum of the temperature, rainfall, and humidity. This equation is an approximation since the actual relationship may not necessarily be linear, and there may be other factors involved. But a simple linear model like this often works well in practice.\n",
    "\n",
    "Based on some statical analysis of historical data, we might come up with reasonable values for the weights w1, w2, and w3. Here's an example set of values:"
   ]
  },
  {
   "cell_type": "code",
   "execution_count": 44,
   "id": "8ed4966c",
   "metadata": {},
   "outputs": [],
   "source": [
    "weights = np.array([0.3, 0.2, 0.5])"
   ]
  },
  {
   "cell_type": "markdown",
   "id": "ac600ab3",
   "metadata": {},
   "source": [
    "Given some climate data for a region, we can now predict the yield of apples. Here's some sample data:\n",
    "\n",
    "<img src=\"https://i.imgur.com/TXPBiqv.png\" style=\"width:360px;\">\n",
    "\n",
    "To begin, we can define some variables to record climate data for a region."
   ]
  },
  {
   "cell_type": "code",
   "execution_count": 45,
   "id": "a704b9bb",
   "metadata": {},
   "outputs": [],
   "source": [
    "climate_data = np.array([[73, 67, 43],\n",
    "                        [91, 88, 64],\n",
    "                        [87, 134, 58],\n",
    "                        [102, 43, 37],\n",
    "                        [69, 96, 70]])\n",
    "\n",
    "# Reihe = Land\n",
    "# Spaltenaufteilung = 1. Temperatur, 2. Regenfall, 3. Luftfeuchtigkeit "
   ]
  },
  {
   "cell_type": "code",
   "execution_count": 46,
   "id": "adc3dc58",
   "metadata": {},
   "outputs": [
    {
     "data": {
      "text/plain": [
       "(5, 3)"
      ]
     },
     "execution_count": 46,
     "metadata": {},
     "output_type": "execute_result"
    }
   ],
   "source": [
    "climate_data.shape"
   ]
  },
  {
   "cell_type": "code",
   "execution_count": 47,
   "id": "c4cab167",
   "metadata": {},
   "outputs": [
    {
     "data": {
      "text/plain": [
       "dtype('int32')"
      ]
     },
     "execution_count": 47,
     "metadata": {},
     "output_type": "execute_result"
    }
   ],
   "source": [
    "climate_data.dtype"
   ]
  },
  {
   "cell_type": "code",
   "execution_count": 48,
   "id": "e6480d5d",
   "metadata": {},
   "outputs": [
    {
     "data": {
      "text/plain": [
       "array([56.8, 76.9, 81.9, 57.7, 74.9])"
      ]
     },
     "execution_count": 48,
     "metadata": {},
     "output_type": "execute_result"
    }
   ],
   "source": [
    "np.matmul(climate_data, weights)"
   ]
  },
  {
   "cell_type": "code",
   "execution_count": 49,
   "id": "bb4a9493",
   "metadata": {},
   "outputs": [
    {
     "data": {
      "text/plain": [
       "array([56.8, 76.9, 81.9, 57.7, 74.9])"
      ]
     },
     "execution_count": 49,
     "metadata": {},
     "output_type": "execute_result"
    }
   ],
   "source": [
    "# Alternativ\n",
    "climate_data @ weights"
   ]
  },
  {
   "cell_type": "markdown",
   "id": "22187029",
   "metadata": {},
   "source": [
    "## Großes Anwendungsbeispiel"
   ]
  },
  {
   "cell_type": "code",
   "execution_count": null,
   "id": "1dc4ac5f",
   "metadata": {},
   "outputs": [],
   "source": [
    "# Fehlermeldung SSL: CERTIFICATE_VERIFY_FAILED beseitigen\n",
    "import ssl\n",
    "\n",
    "ssl._create_default_https_context = ssl._create_unverified_context"
   ]
  },
  {
   "cell_type": "code",
   "execution_count": 55,
   "id": "a7d2c562",
   "metadata": {},
   "outputs": [
    {
     "data": {
      "text/plain": [
       "('data/climate.txt', <http.client.HTTPMessage at 0x23c48606850>)"
      ]
     },
     "execution_count": 55,
     "metadata": {},
     "output_type": "execute_result"
    }
   ],
   "source": [
    "urllib.request.urlretrieve(\"https://hub.jovian.ml/wp-content/uploads/2020/08/climate.csv\",\n",
    "                          \"data/numpy/climate.txt\")"
   ]
  },
  {
   "cell_type": "code",
   "execution_count": 56,
   "id": "22ac6e24",
   "metadata": {},
   "outputs": [],
   "source": [
    "climate_data_big = np.genfromtxt(\"data/numpy/climate.txt\", delimiter=\",\", skip_header=1)"
   ]
  },
  {
   "cell_type": "code",
   "execution_count": 57,
   "id": "de357ab6",
   "metadata": {},
   "outputs": [
    {
     "data": {
      "text/plain": [
       "array([[25., 76., 99.],\n",
       "       [39., 65., 70.],\n",
       "       [59., 45., 77.],\n",
       "       ...,\n",
       "       [99., 62., 58.],\n",
       "       [70., 71., 91.],\n",
       "       [92., 39., 76.]])"
      ]
     },
     "execution_count": 57,
     "metadata": {},
     "output_type": "execute_result"
    }
   ],
   "source": [
    "climate_data_big"
   ]
  },
  {
   "cell_type": "code",
   "execution_count": 58,
   "id": "7c3a3b2b",
   "metadata": {},
   "outputs": [],
   "source": [
    "weights_big = np.array([0.3, 0.2, 0.5])"
   ]
  },
  {
   "cell_type": "code",
   "execution_count": 59,
   "id": "d589ecfb",
   "metadata": {},
   "outputs": [],
   "source": [
    "yields = climate_data_big @ weights_big"
   ]
  },
  {
   "cell_type": "markdown",
   "id": "83177870",
   "metadata": {},
   "source": [
    "Spalte hinzufügen zum Array \"climate_data_big\""
   ]
  },
  {
   "cell_type": "code",
   "execution_count": 60,
   "id": "f05b54a4",
   "metadata": {},
   "outputs": [
    {
     "data": {
      "text/plain": [
       "(10000,)"
      ]
     },
     "execution_count": 60,
     "metadata": {},
     "output_type": "execute_result"
    }
   ],
   "source": [
    "yields.shape"
   ]
  },
  {
   "cell_type": "code",
   "execution_count": 61,
   "id": "bb789195",
   "metadata": {},
   "outputs": [],
   "source": [
    "climate_results = np.concatenate((climate_data_big, yields.reshape(10000,1)), axis=1)\n",
    "# Reshape von (10000,) zu (10000,1)"
   ]
  },
  {
   "cell_type": "code",
   "execution_count": 62,
   "id": "c0ffc74f",
   "metadata": {},
   "outputs": [
    {
     "data": {
      "text/plain": [
       "array([[25. , 76. , 99. , 72.2],\n",
       "       [39. , 65. , 70. , 59.7],\n",
       "       [59. , 45. , 77. , 65.2],\n",
       "       ...,\n",
       "       [99. , 62. , 58. , 71.1],\n",
       "       [70. , 71. , 91. , 80.7],\n",
       "       [92. , 39. , 76. , 73.4]])"
      ]
     },
     "execution_count": 62,
     "metadata": {},
     "output_type": "execute_result"
    }
   ],
   "source": [
    "climate_results"
   ]
  },
  {
   "cell_type": "markdown",
   "id": "4278acf0",
   "metadata": {},
   "source": [
    "Resultat speichern in einer .txt-Datei"
   ]
  },
  {
   "cell_type": "code",
   "execution_count": 63,
   "id": "29095366",
   "metadata": {},
   "outputs": [],
   "source": [
    "np.savetxt(\"data/numpy/climate_results.txt\",\n",
    "          climate_results,\n",
    "          fmt=\"%.2f\",\n",
    "          header=\"Temperatur, Regenfall, Luftfeuchtigkeit, Ernte_Aepfel\")"
   ]
  },
  {
   "cell_type": "markdown",
   "id": "4ae08642",
   "metadata": {},
   "source": [
    "## Test Float"
   ]
  },
  {
   "cell_type": "code",
   "execution_count": null,
   "id": "089c9a64",
   "metadata": {},
   "outputs": [],
   "source": [
    "arr_test = np.array([[[11, 12, 13], [13, 14, 15]],\n",
    "                    [[15, 16, 17], [17, 18, 19.5]]])\n",
    "# Letzte Zahl ist eine Float-Zahl"
   ]
  },
  {
   "cell_type": "code",
   "execution_count": null,
   "id": "7727137f",
   "metadata": {},
   "outputs": [
    {
     "data": {
      "text/plain": [
       "array([[[11. , 12. , 13. ],\n",
       "        [13. , 14. , 15. ]],\n",
       "\n",
       "       [[15. , 16. , 17. ],\n",
       "        [17. , 18. , 19.5]]])"
      ]
     },
     "execution_count": 11,
     "metadata": {},
     "output_type": "execute_result"
    }
   ],
   "source": [
    "arr_test"
   ]
  },
  {
   "cell_type": "code",
   "execution_count": null,
   "id": "2e3d5300",
   "metadata": {},
   "outputs": [
    {
     "data": {
      "text/plain": [
       "dtype('float64')"
      ]
     },
     "execution_count": 12,
     "metadata": {},
     "output_type": "execute_result"
    }
   ],
   "source": [
    "arr_test.dtype"
   ]
  },
  {
   "cell_type": "code",
   "execution_count": null,
   "id": "0121810b",
   "metadata": {},
   "outputs": [],
   "source": []
  }
 ],
 "metadata": {
  "kernelspec": {
   "display_name": "Python 3",
   "language": "python",
   "name": "python3"
  },
  "language_info": {
   "codemirror_mode": {
    "name": "ipython",
    "version": 3
   },
   "file_extension": ".py",
   "mimetype": "text/x-python",
   "name": "python",
   "nbconvert_exporter": "python",
   "pygments_lexer": "ipython3",
   "version": "3.8.8"
  },
  "toc": {
   "base_numbering": 1,
   "nav_menu": {},
   "number_sections": true,
   "sideBar": true,
   "skip_h1_title": false,
   "title_cell": "Table of Contents",
   "title_sidebar": "Contents",
   "toc_cell": true,
   "toc_position": {},
   "toc_section_display": true,
   "toc_window_display": true
  }
 },
 "nbformat": 4,
 "nbformat_minor": 5
}
