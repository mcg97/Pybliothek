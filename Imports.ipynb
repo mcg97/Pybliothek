{
 "cells": [
  {
   "cell_type": "code",
   "execution_count": 7,
   "id": "a307332d",
   "metadata": {},
   "outputs": [
    {
     "name": "stdout",
     "output_type": "stream",
     "text": [
      "All good\n"
     ]
    }
   ],
   "source": [
    "import nbformat\n",
    "from time import sleep\n",
    "import tarfile\n",
    "import random\n",
    "import plotly.express as px\n",
    "import itertools as iter\n",
    "\n",
    "# Allgemein\n",
    "import os\n",
    "import urllib\n",
    "from urllib.request import urlretrieve\n",
    "import pprint as pp\n",
    "\n",
    "# NumPy\n",
    "import numpy as np\n",
    "import urllib.request\n",
    "\n",
    "# Pandas\n",
    "import pandas as pd\n",
    "pd.options.display.max_rows = 20\n",
    "\n",
    "\n",
    "# Dask\n",
    "import dask\n",
    "import dask.array as da\n",
    "import dask.dataframe as dd\n",
    "from dask import delayed\n",
    "import graphviz\n",
    "\n",
    "\n",
    "\n",
    "print(\"All good\")"
   ]
  }
 ],
 "metadata": {
  "kernelspec": {
   "display_name": "Python 3 (ipykernel)",
   "language": "python",
   "name": "python3"
  },
  "language_info": {
   "codemirror_mode": {
    "name": "ipython",
    "version": 3
   },
   "file_extension": ".py",
   "mimetype": "text/x-python",
   "name": "python",
   "nbconvert_exporter": "python",
   "pygments_lexer": "ipython3",
   "version": "3.10.4"
  },
  "toc": {
   "base_numbering": 1,
   "nav_menu": {},
   "number_sections": true,
   "sideBar": true,
   "skip_h1_title": false,
   "title_cell": "Table of Contents",
   "title_sidebar": "Contents",
   "toc_cell": false,
   "toc_position": {},
   "toc_section_display": true,
   "toc_window_display": false
  }
 },
 "nbformat": 4,
 "nbformat_minor": 5
}
