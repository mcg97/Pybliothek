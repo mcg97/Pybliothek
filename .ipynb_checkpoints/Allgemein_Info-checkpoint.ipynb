{
 "cells": [
  {
   "cell_type": "markdown",
   "id": "7dee8859",
   "metadata": {
    "toc": true
   },
   "source": [
    "<h1>Table of Contents<span class=\"tocSkip\"></span></h1>\n",
    "<div class=\"toc\"><ul class=\"toc-item\"><li><span><a href=\"#Imports\" data-toc-modified-id=\"Imports-1\"><span class=\"toc-item-num\">1&nbsp;&nbsp;</span>Imports</a></span></li><li><span><a href=\"#%time-vs-%timeit\" data-toc-modified-id=\"%time-vs-%timeit-2\"><span class=\"toc-item-num\">2&nbsp;&nbsp;</span>%time vs %timeit</a></span></li><li><span><a href=\"#*args-und-**kwargs\" data-toc-modified-id=\"*args-und-**kwargs-3\"><span class=\"toc-item-num\">3&nbsp;&nbsp;</span>*args und **kwargs</a></span><ul class=\"toc-item\"><li><span><a href=\"#Beispiel-*args\" data-toc-modified-id=\"Beispiel-*args-3.1\"><span class=\"toc-item-num\">3.1&nbsp;&nbsp;</span>Beispiel *args</a></span></li><li><span><a href=\"#Beispiel-**kwargs\" data-toc-modified-id=\"Beispiel-**kwargs-3.2\"><span class=\"toc-item-num\">3.2&nbsp;&nbsp;</span>Beispiel **kwargs</a></span></li></ul></li><li><span><a href=\"#Comprehensions\" data-toc-modified-id=\"Comprehensions-4\"><span class=\"toc-item-num\">4&nbsp;&nbsp;</span>Comprehensions</a></span><ul class=\"toc-item\"><li><span><a href=\"#Dictionary\" data-toc-modified-id=\"Dictionary-4.1\"><span class=\"toc-item-num\">4.1&nbsp;&nbsp;</span>Dictionary</a></span></li><li><span><a href=\"#List\" data-toc-modified-id=\"List-4.2\"><span class=\"toc-item-num\">4.2&nbsp;&nbsp;</span>List</a></span></li><li><span><a href=\"#Set\" data-toc-modified-id=\"Set-4.3\"><span class=\"toc-item-num\">4.3&nbsp;&nbsp;</span>Set</a></span></li></ul></li><li><span><a href=\"#Counter-Funktion\" data-toc-modified-id=\"Counter-Funktion-5\"><span class=\"toc-item-num\">5&nbsp;&nbsp;</span>Counter Funktion</a></span></li><li><span><a href=\"#Dataclasses\" data-toc-modified-id=\"Dataclasses-6\"><span class=\"toc-item-num\">6&nbsp;&nbsp;</span>Dataclasses</a></span><ul class=\"toc-item\"><li><span><a href=\"#Alt-vs-neu\" data-toc-modified-id=\"Alt-vs-neu-6.1\"><span class=\"toc-item-num\">6.1&nbsp;&nbsp;</span>Alt vs neu</a></span></li></ul></li><li><span><a href=\"#Docstring\" data-toc-modified-id=\"Docstring-7\"><span class=\"toc-item-num\">7&nbsp;&nbsp;</span>Docstring</a></span></li><li><span><a href=\"#Lambda\" data-toc-modified-id=\"Lambda-8\"><span class=\"toc-item-num\">8&nbsp;&nbsp;</span>Lambda</a></span><ul class=\"toc-item\"><li><span><a href=\"#map()-Funktion\" data-toc-modified-id=\"map()-Funktion-8.1\"><span class=\"toc-item-num\">8.1&nbsp;&nbsp;</span>map()-Funktion</a></span></li><li><span><a href=\"#Sortieren\" data-toc-modified-id=\"Sortieren-8.2\"><span class=\"toc-item-num\">8.2&nbsp;&nbsp;</span>Sortieren</a></span><ul class=\"toc-item\"><li><span><a href=\"#Tupel\" data-toc-modified-id=\"Tupel-8.2.1\"><span class=\"toc-item-num\">8.2.1&nbsp;&nbsp;</span>Tupel</a></span></li><li><span><a href=\"#Dictionary\" data-toc-modified-id=\"Dictionary-8.2.2\"><span class=\"toc-item-num\">8.2.2&nbsp;&nbsp;</span>Dictionary</a></span></li></ul></li><li><span><a href=\"#Filtern\" data-toc-modified-id=\"Filtern-8.3\"><span class=\"toc-item-num\">8.3&nbsp;&nbsp;</span>Filtern</a></span><ul class=\"toc-item\"><li><span><a href=\"#Liste-mit-int-Werten\" data-toc-modified-id=\"Liste-mit-int-Werten-8.3.1\"><span class=\"toc-item-num\">8.3.1&nbsp;&nbsp;</span>Liste mit int-Werten</a></span></li></ul></li></ul></li><li><span><a href=\"#Mutable-vs-Immutable\" data-toc-modified-id=\"Mutable-vs-Immutable-9\"><span class=\"toc-item-num\">9&nbsp;&nbsp;</span>Mutable vs Immutable</a></span><ul class=\"toc-item\"><li><span><a href=\"#Mutable-Beispiel\" data-toc-modified-id=\"Mutable-Beispiel-9.1\"><span class=\"toc-item-num\">9.1&nbsp;&nbsp;</span>Mutable Beispiel</a></span></li><li><span><a href=\"#Immutable-Beispiel\" data-toc-modified-id=\"Immutable-Beispiel-9.2\"><span class=\"toc-item-num\">9.2&nbsp;&nbsp;</span>Immutable Beispiel</a></span></li><li><span><a href=\"#Immutable-+-Mutable-Beispiele\" data-toc-modified-id=\"Immutable-+-Mutable-Beispiele-9.3\"><span class=\"toc-item-num\">9.3&nbsp;&nbsp;</span>Immutable + Mutable Beispiele</a></span><ul class=\"toc-item\"><li><span><a href=\"#Immutable-mit-Mutable\" data-toc-modified-id=\"Immutable-mit-Mutable-9.3.1\"><span class=\"toc-item-num\">9.3.1&nbsp;&nbsp;</span>Immutable mit Mutable</a></span></li><li><span><a href=\"#Mutable-mit-Immutable\" data-toc-modified-id=\"Mutable-mit-Immutable-9.3.2\"><span class=\"toc-item-num\">9.3.2&nbsp;&nbsp;</span>Mutable mit Immutable</a></span></li></ul></li></ul></li><li><span><a href=\"#OS\" data-toc-modified-id=\"OS-10\"><span class=\"toc-item-num\">10&nbsp;&nbsp;</span>OS</a></span><ul class=\"toc-item\"><li><span><a href=\"#Pfadarten\" data-toc-modified-id=\"Pfadarten-10.1\"><span class=\"toc-item-num\">10.1&nbsp;&nbsp;</span>Pfadarten</a></span></li><li><span><a href=\"#Verzeichnis-erstellen\" data-toc-modified-id=\"Verzeichnis-erstellen-10.2\"><span class=\"toc-item-num\">10.2&nbsp;&nbsp;</span>Verzeichnis erstellen</a></span></li><li><span><a href=\"#Lesen-von-einer-Datei\" data-toc-modified-id=\"Lesen-von-einer-Datei-10.3\"><span class=\"toc-item-num\">10.3&nbsp;&nbsp;</span>Lesen von einer Datei</a></span></li><li><span><a href=\"#Dateien-automatisch-lesen-und-schließen-(with)\" data-toc-modified-id=\"Dateien-automatisch-lesen-und-schließen-(with)-10.4\"><span class=\"toc-item-num\">10.4&nbsp;&nbsp;</span>Dateien automatisch lesen und schließen (with)</a></span></li><li><span><a href=\"#Datei-Zeile-für-Zeile-lesen\" data-toc-modified-id=\"Datei-Zeile-für-Zeile-lesen-10.5\"><span class=\"toc-item-num\">10.5&nbsp;&nbsp;</span>Datei Zeile für Zeile lesen</a></span></li><li><span><a href=\"#Verarbeitung-von-Daten-aus-Dateien\" data-toc-modified-id=\"Verarbeitung-von-Daten-aus-Dateien-10.6\"><span class=\"toc-item-num\">10.6&nbsp;&nbsp;</span>Verarbeitung von Daten aus Dateien</a></span></li></ul></li><li><span><a href=\"#Itertools\" data-toc-modified-id=\"Itertools-11\"><span class=\"toc-item-num\">11&nbsp;&nbsp;</span>Itertools</a></span><ul class=\"toc-item\"><li><span><a href=\"#Product\" data-toc-modified-id=\"Product-11.1\"><span class=\"toc-item-num\">11.1&nbsp;&nbsp;</span>Product</a></span></li><li><span><a href=\"#Permutation\" data-toc-modified-id=\"Permutation-11.2\"><span class=\"toc-item-num\">11.2&nbsp;&nbsp;</span>Permutation</a></span></li><li><span><a href=\"#Combinations\" data-toc-modified-id=\"Combinations-11.3\"><span class=\"toc-item-num\">11.3&nbsp;&nbsp;</span>Combinations</a></span></li><li><span><a href=\"#Accumulate\" data-toc-modified-id=\"Accumulate-11.4\"><span class=\"toc-item-num\">11.4&nbsp;&nbsp;</span>Accumulate</a></span></li><li><span><a href=\"#Groupby\" data-toc-modified-id=\"Groupby-11.5\"><span class=\"toc-item-num\">11.5&nbsp;&nbsp;</span>Groupby</a></span></li></ul></li></ul></div>"
   ]
  },
  {
   "cell_type": "markdown",
   "id": "d5803e32",
   "metadata": {},
   "source": [
    "!!! TO-DO !!!\n",
    "\n",
    "- [ ] Lambda/map()-Funktion - Video zu Lambda weiter schauen (8:37 , https://www.youtube.com/watch?v=Ob9rY6PQMfI)\n",
    "- [ ] Comprehension/Set noch machen - Video (https://www.youtube.com/watch?v=3dt4OGnU5sM)"
   ]
  },
  {
   "cell_type": "markdown",
   "id": "d7c2ae35",
   "metadata": {},
   "source": [
    "# Imports"
   ]
  },
  {
   "cell_type": "code",
   "execution_count": 6,
   "id": "3ca6c0d0",
   "metadata": {
    "ExecuteTime": {
     "end_time": "2022-03-13T16:52:20.857597Z",
     "start_time": "2022-03-13T16:52:19.564837Z"
    }
   },
   "outputs": [
    {
     "name": "stdout",
     "output_type": "stream",
     "text": [
      "All good\n"
     ]
    }
   ],
   "source": [
    "%run Imports.ipynb"
   ]
  },
  {
   "cell_type": "markdown",
   "id": "ff2b3337",
   "metadata": {},
   "source": [
    "# %time vs %timeit"
   ]
  },
  {
   "cell_type": "code",
   "execution_count": null,
   "id": "a766428d",
   "metadata": {},
   "outputs": [
    {
     "name": "stdout",
     "output_type": "stream",
     "text": [
      "2.42 ms ± 39.9 µs per loop (mean ± std. dev. of 7 runs, 100 loops each)\n"
     ]
    }
   ],
   "source": [
    "%timeit sum(range(100000))\n"
   ]
  },
  {
   "cell_type": "code",
   "execution_count": null,
   "id": "f5177f19",
   "metadata": {},
   "outputs": [
    {
     "name": "stdout",
     "output_type": "stream",
     "text": [
      "Wall time: 1.97 ms\n"
     ]
    },
    {
     "data": {
      "text/plain": [
       "4999950000"
      ]
     },
     "execution_count": 22,
     "metadata": {},
     "output_type": "execute_result"
    }
   ],
   "source": [
    "%time sum(range(100000))"
   ]
  },
  {
   "cell_type": "markdown",
   "id": "9c332869",
   "metadata": {},
   "source": [
    "# &ast;args und &ast;&ast;kwargs"
   ]
  },
  {
   "cell_type": "markdown",
   "id": "009a9feb",
   "metadata": {},
   "source": [
    "In Python kann eine variable Anzahl von Argumenten an eine Funktion übergeben werdeb, indem man spezielle Symbole verwenden. Es gibt zwei spezielle Symbole:<br>\n",
    "<br>\n",
    "<dl>\n",
    "    <dt>- &ast;args <b>(Argument)</b>  (Nicht-Schlüsselwort-Argumente)</dt>\n",
    "    <dt>- &ast;&ast;kwargs <b>(Keyword argument)</b> (Schlüsselwort-Argumente)</dt>\n",
    "</dl>\n",
    "&ast;args und &ast;&ast;kwargs werden verwendet als Argument/Parameter, wenn man sich nicht sicher ist, wie viele Argumente/Parameter an die Funktion übergeben werden sollen.\n"
   ]
  },
  {
   "cell_type": "markdown",
   "id": "301a4c47",
   "metadata": {},
   "source": [
    "## Beispiel &#42;args"
   ]
  },
  {
   "cell_type": "code",
   "execution_count": 134,
   "id": "2a486c96",
   "metadata": {},
   "outputs": [
    {
     "ename": "TypeError",
     "evalue": "adder() takes 3 positional arguments but 5 were given",
     "output_type": "error",
     "traceback": [
      "\u001b[1;31m---------------------------------------------------------------------------\u001b[0m",
      "\u001b[1;31mTypeError\u001b[0m                                 Traceback (most recent call last)",
      "\u001b[1;32m<ipython-input-134-986e6d871071>\u001b[0m in \u001b[0;36m<module>\u001b[1;34m\u001b[0m\n\u001b[0;32m      2\u001b[0m     \u001b[0mprint\u001b[0m\u001b[1;33m(\u001b[0m\u001b[1;34m\"sum:\"\u001b[0m\u001b[1;33m,\u001b[0m\u001b[0mx\u001b[0m\u001b[1;33m+\u001b[0m\u001b[0my\u001b[0m\u001b[1;33m+\u001b[0m\u001b[0mz\u001b[0m\u001b[1;33m)\u001b[0m\u001b[1;33m\u001b[0m\u001b[1;33m\u001b[0m\u001b[0m\n\u001b[0;32m      3\u001b[0m \u001b[1;33m\u001b[0m\u001b[0m\n\u001b[1;32m----> 4\u001b[1;33m \u001b[0madder\u001b[0m\u001b[1;33m(\u001b[0m\u001b[1;36m5\u001b[0m\u001b[1;33m,\u001b[0m\u001b[1;36m10\u001b[0m\u001b[1;33m,\u001b[0m\u001b[1;36m15\u001b[0m\u001b[1;33m,\u001b[0m\u001b[1;36m20\u001b[0m\u001b[1;33m,\u001b[0m\u001b[1;36m25\u001b[0m\u001b[1;33m)\u001b[0m\u001b[1;33m\u001b[0m\u001b[1;33m\u001b[0m\u001b[0m\n\u001b[0m",
      "\u001b[1;31mTypeError\u001b[0m: adder() takes 3 positional arguments but 5 were given"
     ]
    }
   ],
   "source": [
    "def adder(x,y,z):\n",
    "    print(\"sum:\",x+y+z)\n",
    "\n",
    "adder(5,10,15,20,25)"
   ]
  },
  {
   "cell_type": "code",
   "execution_count": 135,
   "id": "8af77397",
   "metadata": {},
   "outputs": [
    {
     "name": "stdout",
     "output_type": "stream",
     "text": [
      "Sum: 7\n",
      "Sum: 40\n"
     ]
    }
   ],
   "source": [
    "def adder(*num):\n",
    "    sum = 0\n",
    "    \n",
    "    for n in num:\n",
    "        sum = sum + n\n",
    "\n",
    "    print(\"Sum:\",sum)\n",
    "    \n",
    "adder(3,4)\n",
    "adder(10,10,10,10)"
   ]
  },
  {
   "cell_type": "markdown",
   "id": "079f64da",
   "metadata": {},
   "source": [
    "## Beispiel &#42;&#42;kwargs"
   ]
  },
  {
   "cell_type": "code",
   "execution_count": 148,
   "id": "b48a3532",
   "metadata": {},
   "outputs": [
    {
     "name": "stdout",
     "output_type": "stream",
     "text": [
      "\n",
      "Data type of argument: <class 'dict'>\n",
      "Firstname is Sabrina\n",
      "Lastname is Mayer\n",
      "Age is 22\n",
      "Phone is 1234567890\n",
      "\n",
      "Data type of argument: <class 'dict'>\n",
      "Firstname is Max\n",
      "Lastname is Mueller\n",
      "Email is johnwood@nomail.com\n",
      "Country is USA\n",
      "Age is 25\n",
      "Phone is 9876543210\n"
     ]
    }
   ],
   "source": [
    "def intro(**data):\n",
    "    print(\"\\nData type of argument:\",type(data))\n",
    "\n",
    "    for key, value in data.items():\n",
    "        print(\"{0} is {1}\".format(key,value))\n",
    "\n",
    "intro(Firstname=\"Sabrina\", Lastname=\"Mayer\", Age=22, Phone=1234567890)\n",
    "intro(Firstname=\"Max\", Lastname=\"Mueller\", Email=\"johnwood@nomail.com\", Country=\"USA\", Age=25, Phone=9876543210)"
   ]
  },
  {
   "cell_type": "markdown",
   "id": "d1979e56",
   "metadata": {},
   "source": [
    "# Comprehensions"
   ]
  },
  {
   "cell_type": "markdown",
   "id": "3308c15e",
   "metadata": {},
   "source": [
    "Bietet eine kürzere und verständliche Syntax um verschiedene Formen von Listen zu erstellen"
   ]
  },
  {
   "cell_type": "markdown",
   "id": "0ac1eba8",
   "metadata": {},
   "source": [
    "## Dictionary"
   ]
  },
  {
   "cell_type": "markdown",
   "id": "65801346",
   "metadata": {},
   "source": [
    "<b>Beispiel</b>\n",
    "<br>\n",
    "Ein {\"name\":\"heros\"} für jeden Namen/Helden in zip(names,heros)"
   ]
  },
  {
   "cell_type": "code",
   "execution_count": 70,
   "id": "f604322d",
   "metadata": {},
   "outputs": [
    {
     "name": "stdout",
     "output_type": "stream",
     "text": [
      "{'Bruce': 'Batman', 'Clark': 'Superman', 'Peter': 'Spiderman', 'Logan': 'Wolverine', 'Wade': 'Deadpool'}\n"
     ]
    }
   ],
   "source": [
    "names = [\"Bruce\", \"Clark\", \"Peter\", \"Logan\", \"Wade\"]\n",
    "heros = [\"Batman\", \"Superman\", \"Spiderman\", \"Wolverine\", \"Deadpool\"]\n",
    "print(dict(zip(names,heros)))"
   ]
  },
  {
   "cell_type": "code",
   "execution_count": 78,
   "id": "a1ec266d",
   "metadata": {},
   "outputs": [
    {
     "name": "stdout",
     "output_type": "stream",
     "text": [
      "{'Bruce': 'Batman', 'Clark': 'Superman', 'Peter': 'Spiderman', 'Logan': 'Wolverine', 'Wade': 'Deadpool'}\n"
     ]
    }
   ],
   "source": [
    "# Ohne Comprehension\n",
    "my_dict = {}\n",
    "for name,hero in zip(names,heros):\n",
    "    my_dict[name] = hero\n",
    "print(my_dict)"
   ]
  },
  {
   "cell_type": "code",
   "execution_count": 81,
   "id": "0b16e552",
   "metadata": {},
   "outputs": [
    {
     "name": "stdout",
     "output_type": "stream",
     "text": [
      "{'Bruce': 'Batman', 'Clark': 'Superman', 'Peter': 'Spiderman', 'Logan': 'Wolverine', 'Wade': 'Deadpool'}\n"
     ]
    }
   ],
   "source": [
    "# Mit Comprehension\n",
    "my_dict_2 = {name_2:hero_2 for name_2, hero_2 in zip(names,heros)}\n",
    "print(my_dict_2)"
   ]
  },
  {
   "cell_type": "markdown",
   "id": "9993771b",
   "metadata": {},
   "source": [
    "## List"
   ]
  },
  {
   "cell_type": "code",
   "execution_count": 2,
   "id": "7e1cb266",
   "metadata": {},
   "outputs": [],
   "source": [
    "nums = [1, 2, 3, 4, 5, 6, 7, 8, 9, 10]"
   ]
  },
  {
   "cell_type": "markdown",
   "id": "1b888387",
   "metadata": {},
   "source": [
    "<b>Beispiel:</b>\n",
    "<br>\n",
    "Jedes Element in nums einer neuen Liste zuweisen"
   ]
  },
  {
   "cell_type": "code",
   "execution_count": 4,
   "id": "94d3e46c",
   "metadata": {},
   "outputs": [
    {
     "name": "stdout",
     "output_type": "stream",
     "text": [
      "[1, 2, 3, 4, 5, 6, 7, 8, 9, 10]\n"
     ]
    }
   ],
   "source": [
    "# Ohne Comprehension\n",
    "my_list = []\n",
    "for n in nums:\n",
    "    my_list.append(n)\n",
    "print(my_list)"
   ]
  },
  {
   "cell_type": "code",
   "execution_count": 5,
   "id": "4423f6eb",
   "metadata": {},
   "outputs": [
    {
     "name": "stdout",
     "output_type": "stream",
     "text": [
      "[1, 2, 3, 4, 5, 6, 7, 8, 9, 10]\n"
     ]
    }
   ],
   "source": [
    "# Mit Comprehension\n",
    "my_list = [n for n in nums]\n",
    "print(my_list)"
   ]
  },
  {
   "cell_type": "markdown",
   "id": "717998e1",
   "metadata": {},
   "source": [
    "<b>Beispiel:</b>\n",
    "<br>\n",
    "Quadrat von jedem Element in nums in eine neue Liste schreiben"
   ]
  },
  {
   "cell_type": "code",
   "execution_count": 6,
   "id": "2d3bbe6f",
   "metadata": {},
   "outputs": [
    {
     "name": "stdout",
     "output_type": "stream",
     "text": [
      "[1, 4, 9, 16, 25, 36, 49, 64, 81, 100]\n"
     ]
    }
   ],
   "source": [
    "# Ohne Comprehension\n",
    "my_list = []\n",
    "for n in nums:\n",
    "    my_list.append(n*n)\n",
    "print(my_list)"
   ]
  },
  {
   "cell_type": "code",
   "execution_count": 7,
   "id": "470749f0",
   "metadata": {},
   "outputs": [
    {
     "name": "stdout",
     "output_type": "stream",
     "text": [
      "[1, 4, 9, 16, 25, 36, 49, 64, 81, 100]\n"
     ]
    }
   ],
   "source": [
    "# Mit Comprehension\n",
    "my_list = [n*n for n in nums]\n",
    "print(my_list)"
   ]
  },
  {
   "cell_type": "code",
   "execution_count": 41,
   "id": "4fdfd3da",
   "metadata": {},
   "outputs": [
    {
     "name": "stdout",
     "output_type": "stream",
     "text": [
      "[1, 4, 9, 16, 25, 36, 49, 64, 81, 100]\n"
     ]
    }
   ],
   "source": [
    "# Alternative mit lambda + map\n",
    "\n",
    "my_list = map(lambda x: x*x, nums)\n",
    "print(list(my_list))\n",
    "\n",
    "# Muss in eine Liste gemacht werden (Gibt ein Iterator zurück)\n",
    "# Versionsabhängig (Python2 Liste, Python3 Iterator)"
   ]
  },
  {
   "cell_type": "markdown",
   "id": "ea332492",
   "metadata": {},
   "source": [
    "<b>Beispiel:</b>\n",
    "<br>\n",
    "Jedes Element was durch zwei teilbar ist in eine neue Liste schreiben"
   ]
  },
  {
   "cell_type": "code",
   "execution_count": 13,
   "id": "bade6a46",
   "metadata": {},
   "outputs": [
    {
     "name": "stdout",
     "output_type": "stream",
     "text": [
      "[2, 4, 6, 8, 10]\n"
     ]
    }
   ],
   "source": [
    "# Ohne Comprehension\n",
    "my_list = []\n",
    "for n in nums:\n",
    "    if n%2 == 0:\n",
    "        my_list.append(n)\n",
    "print(my_list)"
   ]
  },
  {
   "cell_type": "code",
   "execution_count": 14,
   "id": "9d2db8de",
   "metadata": {},
   "outputs": [
    {
     "name": "stdout",
     "output_type": "stream",
     "text": [
      "[2, 4, 6, 8, 10]\n"
     ]
    }
   ],
   "source": [
    "# Mit Comprehension\n",
    "my_list = [n for n in nums if n%2 == 0]\n",
    "print(my_list)"
   ]
  },
  {
   "cell_type": "code",
   "execution_count": 17,
   "id": "24be1fd4",
   "metadata": {},
   "outputs": [
    {
     "name": "stdout",
     "output_type": "stream",
     "text": [
      "[2, 4, 6, 8, 10]\n"
     ]
    }
   ],
   "source": [
    "# ALternative mit filter + lambda\n",
    "my_list = filter(lambda x: x%2 == 0, nums)\n",
    "print(list(my_list))"
   ]
  },
  {
   "cell_type": "markdown",
   "id": "1ec20669",
   "metadata": {},
   "source": [
    "<b>Beispiel</b>\n",
    "<br>\n",
    "Ein (Buchstaben, Zahlen) Paar für jeden Buchstaben in \"abcd\" und jeder Zahl in \"0123\""
   ]
  },
  {
   "cell_type": "code",
   "execution_count": 3,
   "id": "7df588df",
   "metadata": {},
   "outputs": [
    {
     "name": "stdout",
     "output_type": "stream",
     "text": [
      "[('a', '0'), ('a', '1'), ('a', '2'), ('a', '3'), ('b', '0'), ('b', '1'), ('b', '2'), ('b', '3'), ('c', '0'), ('c', '1'), ('c', '2'), ('c', '3'), ('d', '0'), ('d', '1'), ('d', '2'), ('d', '3')]\n"
     ]
    }
   ],
   "source": [
    "# Ohne Comprehension\n",
    "my_list = []\n",
    "for letter in \"abcd\":\n",
    "    for number in \"0123\":\n",
    "        my_list.append((letter,number))\n",
    "print(my_list)"
   ]
  },
  {
   "cell_type": "code",
   "execution_count": 87,
   "id": "eff6c250",
   "metadata": {},
   "outputs": [
    {
     "name": "stdout",
     "output_type": "stream",
     "text": [
      "[('a', '0'), ('a', '1'), ('a', '2'), ('a', '3'), ('b', '0'), ('b', '1'), ('b', '2'), ('b', '3'), ('c', '0'), ('c', '1'), ('c', '2'), ('c', '3'), ('d', '0'), ('d', '1'), ('d', '2'), ('d', '3')]\n"
     ]
    }
   ],
   "source": [
    "# Mit Comprehension\n",
    "my_list = [(letter,number) for letter in \"abcd\" for number in \"0123\"]\n",
    "print(my_list)"
   ]
  },
  {
   "cell_type": "markdown",
   "id": "792f5879",
   "metadata": {},
   "source": [
    "## Set"
   ]
  },
  {
   "cell_type": "markdown",
   "id": "fb3be6c6",
   "metadata": {},
   "source": [
    "<b>Beispiel</b>\n",
    "<br>\n",
    "Jede Zahl aus der Liste in das Set kopieren"
   ]
  },
  {
   "cell_type": "code",
   "execution_count": 83,
   "id": "568c90c4",
   "metadata": {},
   "outputs": [
    {
     "name": "stdout",
     "output_type": "stream",
     "text": [
      "{1, 2, 4, 5, 6, 7, 8, 9, 10}\n",
      "<class 'set'>\n"
     ]
    }
   ],
   "source": [
    "# Ohne Comprehension\n",
    "nums = [1, 1, 2, 4, 5, 6, 6, 7, 8, 9, 10 ,10]\n",
    "my_set = set()\n",
    "for n in nums:\n",
    "    my_set.add(n)\n",
    "print(my_set)"
   ]
  },
  {
   "cell_type": "code",
   "execution_count": 85,
   "id": "c6f3e7d9",
   "metadata": {},
   "outputs": [
    {
     "name": "stdout",
     "output_type": "stream",
     "text": [
      "{1, 2, 4, 5, 6, 7, 8, 9, 10}\n",
      "<class 'set'>\n"
     ]
    }
   ],
   "source": [
    "# Mit Comprehension\n",
    "my_set_2 = {n for n in nums}\n",
    "print(my_set_2)"
   ]
  },
  {
   "cell_type": "code",
   "execution_count": null,
   "id": "27b61371",
   "metadata": {},
   "outputs": [],
   "source": []
  },
  {
   "cell_type": "markdown",
   "id": "342c9751",
   "metadata": {},
   "source": [
    "# Counter Funktion"
   ]
  },
  {
   "cell_type": "code",
   "execution_count": 1,
   "id": "db5f008d",
   "metadata": {},
   "outputs": [],
   "source": [
    "from collections import Counter"
   ]
  },
  {
   "cell_type": "code",
   "execution_count": 54,
   "id": "046bae3f",
   "metadata": {},
   "outputs": [
    {
     "name": "stdout",
     "output_type": "stream",
     "text": [
      "{2: 2, 3: 2, 4: 1, 5: 5, 6: 1, 7: 1, 1: 1, 22: 5}\n"
     ]
    }
   ],
   "source": [
    "x_list = [2,2,3,4,5,5,5,5,5,6,7,3,1,22,22,22,22,22]\n",
    "count_dict = dict().fromkeys(x_list,0)\n",
    "for element in x_list:\n",
    "    count_dict[element] += 1\n",
    "\n",
    "print(count_dict)"
   ]
  },
  {
   "cell_type": "code",
   "execution_count": 55,
   "id": "9a812d5c",
   "metadata": {},
   "outputs": [
    {
     "name": "stdout",
     "output_type": "stream",
     "text": [
      "Zahl mit den meisten Einträge: 22\n",
      "Anzahl der Einträge: 6\n",
      "Es besitzt 8 Item(s)\n"
     ]
    }
   ],
   "source": [
    "x = [2,2,3,4,5,5,5,5,5,6,7,3,1,22,22,22,22,22,22]\n",
    "my_list = Counter(x)\n",
    "# print(len(my_list.items()))\n",
    "list_len = len(my_list.items())\n",
    "if(list_len >= 2):\n",
    "    most_com_list = my_list.most_common(2)\n",
    "    print(f\"Zahl mit den meisten Einträge: {most_com_list[0][0]}\")\n",
    "    print(f\"Anzahl der Einträge: {most_com_list[0][1]}\")\n",
    "    print(f\"Es besitzt {list_len} Item(s)\")\n",
    "else:\n",
    "    print(f\"WARNUNG!: Es besitzt nur {list_len} Item(s)\")"
   ]
  },
  {
   "cell_type": "markdown",
   "id": "56c59126",
   "metadata": {},
   "source": [
    "# Dataclasses "
   ]
  },
  {
   "cell_type": "markdown",
   "id": "89e2ebc4",
   "metadata": {},
   "source": [
    "!!! Feature von **Python 3.10** !!!"
   ]
  },
  {
   "cell_type": "markdown",
   "id": "63e70524",
   "metadata": {},
   "source": [
    "Wichtig:\n",
    "- Dataclasses verletzen das Konzept von einer Klassenvariable zum repräsentieren von Instanzvariablen\n",
    "- Wichtig den @dataclass Dekorator vor die Definition der Klasse schreiben, da man ansonsten Klassenvariablen anstelle von Instanzvariablen erzeugt (Kann zu diversen Problemen führen) "
   ]
  },
  {
   "cell_type": "code",
   "execution_count": 4,
   "id": "e176237a",
   "metadata": {
    "ExecuteTime": {
     "end_time": "2022-03-26T00:22:50.791290Z",
     "start_time": "2022-03-26T00:22:50.731294Z"
    }
   },
   "outputs": [
    {
     "name": "stdout",
     "output_type": "stream",
     "text": [
      "Python 3.10.0\n"
     ]
    }
   ],
   "source": [
    "!python -V"
   ]
  },
  {
   "cell_type": "code",
   "execution_count": 23,
   "id": "669e52ea",
   "metadata": {
    "ExecuteTime": {
     "end_time": "2022-03-26T00:31:48.694132Z",
     "start_time": "2022-03-26T00:31:48.682135Z"
    }
   },
   "outputs": [],
   "source": [
    "from dataclasses import dataclass\n",
    "import inspect # Funktionen die erzeugt werden ausgeben\n",
    "from pprint import pprint"
   ]
  },
  {
   "cell_type": "markdown",
   "id": "de49c903",
   "metadata": {},
   "source": [
    "## Alt vs neu "
   ]
  },
  {
   "cell_type": "code",
   "execution_count": 50,
   "id": "5dfc79c4",
   "metadata": {
    "ExecuteTime": {
     "end_time": "2022-03-26T01:01:59.664806Z",
     "start_time": "2022-03-26T01:01:59.654804Z"
    }
   },
   "outputs": [
    {
     "name": "stdout",
     "output_type": "stream",
     "text": [
      "Max, Am Weiher 4\n"
     ]
    }
   ],
   "source": [
    "# Alt\n",
    "\n",
    "class PersonAlt:\n",
    "    def __init__(self, name:str, address:str):\n",
    "        self.name = name\n",
    "        self.address = address\n",
    "    \n",
    "    def __str__(self) -> str:\n",
    "        return f\"{self.name}, {self.address}\"\n",
    "    \n",
    "p1_alt = PersonAlt(\"Max\" , \"Am Weiher 4\")\n",
    "\n",
    "print(p1)"
   ]
  },
  {
   "cell_type": "markdown",
   "id": "e0c66c19",
   "metadata": {},
   "source": [
    "**Problem:**\n",
    "- Beim Hinzufügen weiterer Variablen wird der Code unübersichtlicher und ist dementsprechend fehleranfälliger "
   ]
  },
  {
   "cell_type": "code",
   "execution_count": 58,
   "id": "3dc4b9ee",
   "metadata": {
    "ExecuteTime": {
     "end_time": "2022-03-26T01:02:04.369476Z",
     "start_time": "2022-03-26T01:02:04.353465Z"
    }
   },
   "outputs": [
    {
     "name": "stdout",
     "output_type": "stream",
     "text": [
      "PersonNeu(name='Max', address='Am Weiher 4')\n"
     ]
    }
   ],
   "source": [
    "# Neu\n",
    "\n",
    "@dataclass\n",
    "class PersonNeu:\n",
    "    name: str\n",
    "    address: str\n",
    "        \n",
    "p2_neu = PersonNeu(\"Max\", \"Am Weiher 4\")\n",
    "\n",
    "print(p2_neu)\n",
    "# die __repr__ Methode wird durch dataclass generiert"
   ]
  },
  {
   "cell_type": "markdown",
   "id": "87ae0aef",
   "metadata": {},
   "source": []
  },
  {
   "cell_type": "markdown",
   "id": "79ba1980",
   "metadata": {},
   "source": [
    "# Docstring"
   ]
  },
  {
   "cell_type": "code",
   "execution_count": null,
   "id": "a9e54099",
   "metadata": {},
   "outputs": [],
   "source": [
    "def test():\n",
    "    \"\"\"\n",
    "    Dies ist ein Test:\n",
    "    \n",
    "    Hier könnte ihre Werbung stehen\n",
    "    \"\"\""
   ]
  },
  {
   "cell_type": "code",
   "execution_count": null,
   "id": "3aefd05b",
   "metadata": {},
   "outputs": [
    {
     "name": "stdout",
     "output_type": "stream",
     "text": [
      "Help on function test in module __main__:\n",
      "\n",
      "test()\n",
      "    Dies ist ein Test:\n",
      "    \n",
      "    Hier könnte ihre Werbung stehen\n",
      "\n"
     ]
    }
   ],
   "source": [
    "help(test)"
   ]
  },
  {
   "cell_type": "markdown",
   "id": "7a63fbe8",
   "metadata": {},
   "source": [
    "# Lambda"
   ]
  },
  {
   "cell_type": "markdown",
   "id": "cfc67b02",
   "metadata": {},
   "source": [
    "Aufbau:<br>\n",
    "<br>\n",
    "<b>lambda arguments: expression</b>\n",
    "<br>\n",
    "<br>\n",
    "Wird häufig verwendet zum sortieren oder filtern"
   ]
  },
  {
   "cell_type": "code",
   "execution_count": 2,
   "id": "f515b390",
   "metadata": {},
   "outputs": [
    {
     "name": "stdout",
     "output_type": "stream",
     "text": [
      "10\n"
     ]
    }
   ],
   "source": [
    "add_num5 = lambda x: x+5\n",
    "print(add_num5(5))"
   ]
  },
  {
   "cell_type": "code",
   "execution_count": 4,
   "id": "33fffcc9",
   "metadata": {},
   "outputs": [
    {
     "name": "stdout",
     "output_type": "stream",
     "text": [
      "25\n"
     ]
    }
   ],
   "source": [
    "square_num5 = lambda x: x*5\n",
    "print(square_num5(5))"
   ]
  },
  {
   "cell_type": "code",
   "execution_count": 27,
   "id": "91789587",
   "metadata": {},
   "outputs": [
    {
     "name": "stdout",
     "output_type": "stream",
     "text": [
      "4\n",
      "2\n"
     ]
    }
   ],
   "source": [
    "get_tens = lambda x: int(x/10)%10\n",
    "print(get_tens(749)) # Gibt die 4 bei 749 aus\n",
    "print(get_tens(92829.4))"
   ]
  },
  {
   "cell_type": "markdown",
   "id": "150b9010",
   "metadata": {},
   "source": [
    "## map()-Funktion"
   ]
  },
  {
   "cell_type": "markdown",
   "id": "3dccf4ae",
   "metadata": {},
   "source": [
    "Die map()-Funktion sorgt dafür, das die Lambda-Funktion auf jedes Element angewendet wird"
   ]
  },
  {
   "cell_type": "code",
   "execution_count": 133,
   "id": "c87ad7a3",
   "metadata": {},
   "outputs": [
    {
     "name": "stdout",
     "output_type": "stream",
     "text": [
      "[1, 4, 9, 16, 25, 36]\n"
     ]
    }
   ],
   "source": [
    "ls1 = [1,2,3,4,5,6]\n",
    "ls2 = list(map(lambda x: x ** 2, ls1))\n",
    "print(ls2)"
   ]
  },
  {
   "cell_type": "markdown",
   "id": "dd26869a",
   "metadata": {},
   "source": [
    "## Sortieren"
   ]
  },
  {
   "cell_type": "markdown",
   "id": "efdc4215",
   "metadata": {},
   "source": [
    "### Tupel"
   ]
  },
  {
   "cell_type": "code",
   "execution_count": 37,
   "id": "2ff25466",
   "metadata": {},
   "outputs": [
    {
     "name": "stdout",
     "output_type": "stream",
     "text": [
      "[('Chips', 2.29), ('Eier', 3.19), ('Honig', 1.89), ('Red Bull', 1.19)]\n"
     ]
    }
   ],
   "source": [
    "list1 = [(\"Eier\",3.19), (\"Honig\", 1.89), (\"Chips\", 2.29),(\"Red Bull\", 1.19)]\n",
    "list1.sort(key= lambda x: x[0])\n",
    "print(list1)"
   ]
  },
  {
   "cell_type": "markdown",
   "id": "3dc8381a",
   "metadata": {},
   "source": [
    "### Dictionary"
   ]
  },
  {
   "cell_type": "code",
   "execution_count": 39,
   "id": "f10eaedd",
   "metadata": {},
   "outputs": [],
   "source": [
    "list2 = [{\"brand\":\"Ford\", \"model\":\"Focus\", \"year\":2010},{\"brand\":\"Fiat\", \"model\":\"Punto\", \"year\":2007},{\"brand\":\"Nissan\", \"model\":\"GT-R\", \"year\":2009}]"
   ]
  },
  {
   "cell_type": "code",
   "execution_count": 44,
   "id": "6bf338ab",
   "metadata": {},
   "outputs": [
    {
     "name": "stdout",
     "output_type": "stream",
     "text": [
      "[{'brand': 'Ford', 'model': 'Focus', 'year': 2010},\n",
      " {'brand': 'Nissan', 'model': 'GT-R', 'year': 2009},\n",
      " {'brand': 'Fiat', 'model': 'Punto', 'year': 2007}]\n"
     ]
    }
   ],
   "source": [
    "list2_sorted = sorted(list2, key= lambda x: x[\"model\"])\n",
    "pp.pprint(list2_sorted)"
   ]
  },
  {
   "cell_type": "markdown",
   "id": "5cc4a387",
   "metadata": {},
   "source": [
    "## Filtern"
   ]
  },
  {
   "cell_type": "markdown",
   "id": "efecbc89",
   "metadata": {},
   "source": [
    "### Liste mit int-Werten"
   ]
  },
  {
   "cell_type": "code",
   "execution_count": 46,
   "id": "136a821d",
   "metadata": {},
   "outputs": [
    {
     "name": "stdout",
     "output_type": "stream",
     "text": [
      "[2, 4, 6]\n"
     ]
    }
   ],
   "source": [
    "list1 = [1,2,3,4,5,6]\n",
    "list1_filtered = list(filter(lambda x:x%2 == 0, list1))\n",
    "print(list1_filtered)"
   ]
  },
  {
   "cell_type": "code",
   "execution_count": 50,
   "id": "cbc25151",
   "metadata": {},
   "outputs": [
    {
     "name": "stdout",
     "output_type": "stream",
     "text": [
      "[1, 3, 5]\n"
     ]
    }
   ],
   "source": [
    "odds = lambda x: x%2 == 1\n",
    "list1 = [1,2,3,4,5,6]\n",
    "list1_filtered = list(filter(odds2, list1))\n",
    "print(list1_filtered)"
   ]
  },
  {
   "cell_type": "markdown",
   "id": "9218ca2f",
   "metadata": {},
   "source": [
    "# Mutable vs Immutable"
   ]
  },
  {
   "cell_type": "markdown",
   "id": "e5f2a057",
   "metadata": {},
   "source": [
    "<b>MUTABLE OBJECTS</b><br>\n",
    "<dl>\n",
    "    <dt>- Lists</dt>\n",
    "    <dt>- Sets</dt>\n",
    "    <dt>- Dictionaries</dt>\n",
    "    <dt>- Benutzerdefinierte Klassen</dt>\n",
    "</dl>\n",
    "<br>\n",
    "<b>IMMUTABLE OBJECTS </b>\n",
    "<dl>\n",
    "    <dt>- Numbers (Integer, Float, Decimal, Booleans, ...)</dt>\n",
    "    <dt>- Strings</dt>\n",
    "    <dt>- Tuples</dt>\n",
    "    <dt>- Frozen Sets</dt>\n",
    "    <dt>- Benutzerdefinierte Klassen</dt>\n",
    "</dl>"
   ]
  },
  {
   "cell_type": "markdown",
   "id": "97dbb9aa",
   "metadata": {},
   "source": [
    "## Mutable Beispiel"
   ]
  },
  {
   "cell_type": "code",
   "execution_count": 62,
   "id": "69e75365",
   "metadata": {},
   "outputs": [
    {
     "name": "stdout",
     "output_type": "stream",
     "text": [
      "Berlin,Paris,Tokyo,"
     ]
    }
   ],
   "source": [
    "staedte = [\"Berlin\", \"Paris\", \"Tokyo\"]\n",
    "for stadt in staedte:\n",
    "    print(stadt, end=\",\")"
   ]
  },
  {
   "cell_type": "code",
   "execution_count": 65,
   "id": "67bb5a25",
   "metadata": {},
   "outputs": [
    {
     "name": "stdout",
     "output_type": "stream",
     "text": [
      "0x26bb2ae0c40\n"
     ]
    }
   ],
   "source": [
    "# Position des erstellten Objekts im Speicher in hexadezimaler Form anzeigen \n",
    "\n",
    "print(hex(id(staedte)))"
   ]
  },
  {
   "cell_type": "code",
   "execution_count": 66,
   "id": "86bcbd22",
   "metadata": {},
   "outputs": [
    {
     "name": "stdout",
     "output_type": "stream",
     "text": [
      "Berlin,Paris,Tokyo,Moskau,"
     ]
    }
   ],
   "source": [
    "# Hinzufügen einer weiteren Stadt\n",
    "\n",
    "staedte.append(\"Moskau\")\n",
    "for stadt in staedte:\n",
    "    print(stadt, end=\",\")"
   ]
  },
  {
   "cell_type": "code",
   "execution_count": 67,
   "id": "681eb91c",
   "metadata": {},
   "outputs": [
    {
     "name": "stdout",
     "output_type": "stream",
     "text": [
      "0x26bb2ae0c40\n"
     ]
    }
   ],
   "source": [
    "print(hex(id(staedte)))"
   ]
  },
  {
   "cell_type": "markdown",
   "id": "fe3632b1",
   "metadata": {},
   "source": [
    "Das obige Beispiel zeigt, dass man in der Lage ist, den internen Zustand des Objekts \"Städte\" zu ändern, indem man eine weitere Stadt \"Moskau\" hinzugefügt hat. Die Speicheradresse des Objekts hat sich nicht geändert.<br>\n",
    "<br>\n",
    "Dies bestätigt, dass kein neues Objekt erstellt wurde, sondern dass dasselbe Objekt verändert oder mutiert wurde. Daher kann man sagen, dass das Objekt, das ein Listentyp mit dem Namen der Referenzvariablen 'staedte' ist, ein <b>MUTABLE OBJECT</b> ist."
   ]
  },
  {
   "cell_type": "markdown",
   "id": "c5b817a6",
   "metadata": {},
   "source": [
    "## Immutable Beispiel"
   ]
  },
  {
   "cell_type": "code",
   "execution_count": 68,
   "id": "4ead9a01",
   "metadata": {},
   "outputs": [],
   "source": [
    "foo = (1,2) # Tupel erzeugen"
   ]
  },
  {
   "cell_type": "code",
   "execution_count": 69,
   "id": "f78932d6",
   "metadata": {},
   "outputs": [
    {
     "ename": "TypeError",
     "evalue": "'tuple' object does not support item assignment",
     "output_type": "error",
     "traceback": [
      "\u001b[1;31m---------------------------------------------------------------------------\u001b[0m",
      "\u001b[1;31mTypeError\u001b[0m                                 Traceback (most recent call last)",
      "\u001b[1;32m<ipython-input-69-206b7ce09f8c>\u001b[0m in \u001b[0;36m<module>\u001b[1;34m\u001b[0m\n\u001b[1;32m----> 1\u001b[1;33m \u001b[0mfoo\u001b[0m\u001b[1;33m[\u001b[0m\u001b[1;36m0\u001b[0m\u001b[1;33m]\u001b[0m \u001b[1;33m=\u001b[0m \u001b[1;36m3\u001b[0m\u001b[1;33m\u001b[0m\u001b[1;33m\u001b[0m\u001b[0m\n\u001b[0m",
      "\u001b[1;31mTypeError\u001b[0m: 'tuple' object does not support item assignment"
     ]
    }
   ],
   "source": [
    "foo[0] = 3"
   ]
  },
  {
   "cell_type": "markdown",
   "id": "56efd6eb",
   "metadata": {},
   "source": [
    "Ein Objekt, dessen interner Zustand <b>nicht</b> verändert werden kann, ist <b>IMMUTABLE</b>"
   ]
  },
  {
   "cell_type": "code",
   "execution_count": 78,
   "id": "bfea7f2d",
   "metadata": {},
   "outputs": [
    {
     "name": "stdout",
     "output_type": "stream",
     "text": [
      "('Sunday', 'Monday', 'Tuesday', 'Wednesday', 'Thursday', 'Friday', 'Saturday')\n"
     ]
    }
   ],
   "source": [
    "weekdays = \"Sunday\", \"Monday\", \"Tuesday\", \"Wednesday\", \"Thursday\", \"Friday\", \"Saturday\"\n",
    "print(weekdays)"
   ]
  },
  {
   "cell_type": "code",
   "execution_count": 79,
   "id": "4444e2d2",
   "metadata": {},
   "outputs": [
    {
     "name": "stdout",
     "output_type": "stream",
     "text": [
      "0x26bb2f588e0\n"
     ]
    }
   ],
   "source": [
    "print(hex(id(weekdays)))"
   ]
  },
  {
   "cell_type": "code",
   "execution_count": 80,
   "id": "8d60b92b",
   "metadata": {},
   "outputs": [
    {
     "name": "stdout",
     "output_type": "stream",
     "text": [
      "('Sunday', 'Monday', 'Tuesday', 'Wednesday', 'Thursday', 'Friday', 'Saturday', 'Testday')\n"
     ]
    }
   ],
   "source": [
    "weekdays += (\"Testday\",)\n",
    "print(weekdays)"
   ]
  },
  {
   "cell_type": "markdown",
   "id": "360f63a1",
   "metadata": {},
   "source": [
    "Da Tupel unveränderlich sind, können keine neuen Elemente hinzugefügt werden. Daher wird durch die Zusammenführung von Tupeln mit dem Operator \"+\" ein neuer imaginärer Tag in das Tupel 'weekdays' eingefügt."
   ]
  },
  {
   "cell_type": "code",
   "execution_count": 81,
   "id": "2b012cc1",
   "metadata": {},
   "outputs": [
    {
     "name": "stdout",
     "output_type": "stream",
     "text": [
      "0x26bb2bff4a0\n"
     ]
    }
   ],
   "source": [
    "print(hex(id(weekdays)))"
   ]
  },
  {
   "cell_type": "markdown",
   "id": "e5b9b0b1",
   "metadata": {},
   "source": [
    "Das obige Beispiel mit den Wochentagen zeigt, dass man in der Lage ist, denselben Variablennamen zu verwenden, der auf ein Objekt verweist, das eine Art Tupel mit sieben Elementen ist. Die ID oder der Speicherort des alten und neuen Tupels ist jedoch nicht identisch. <br>\n",
    "<br>\n",
    "Man ist nicht in der Lage, den internen Zustand des Objekts \"weekdays\" zu ändern. Python legt ein neues Objekt in der Speicheradresse an, und die Variable \"weekdays\" hat begonnen, auf das neue Objekt mit acht Elementen zu verweisen.<br>\n",
    "Daher kann man sagen, dass das Objekt vom Typ Tupel mit der Referenzvariablen 'weekdays' ein IMMUTABLE OBJEKT ist."
   ]
  },
  {
   "cell_type": "markdown",
   "id": "f95edf28",
   "metadata": {},
   "source": [
    "## Immutable + Mutable Beispiele"
   ]
  },
  {
   "cell_type": "markdown",
   "id": "bf92a59b",
   "metadata": {},
   "source": [
    "### Immutable mit Mutable"
   ]
  },
  {
   "cell_type": "code",
   "execution_count": 2,
   "id": "4e7485b9",
   "metadata": {},
   "outputs": [],
   "source": [
    "person = (['Sebastian', 5, 'Maennlich'], ['Sandra', 8, 'Weiblich'])\n",
    "\n",
    "# Erstelle eine Tupel (Immutable) mit zwei Listen (mutable) als Elemente"
   ]
  },
  {
   "cell_type": "code",
   "execution_count": 3,
   "id": "86301e9f",
   "metadata": {},
   "outputs": [
    {
     "name": "stdout",
     "output_type": "stream",
     "text": [
      "(['Sebastian', 5, 'Maennlich'], ['Sandra', 8, 'Weiblich'])\n"
     ]
    }
   ],
   "source": [
    "print(person)"
   ]
  },
  {
   "cell_type": "code",
   "execution_count": 4,
   "id": "288db9aa",
   "metadata": {},
   "outputs": [
    {
     "name": "stdout",
     "output_type": "stream",
     "text": [
      "0x2af915b49c0\n"
     ]
    }
   ],
   "source": [
    "print(hex(id(person)))"
   ]
  },
  {
   "cell_type": "code",
   "execution_count": 8,
   "id": "8288aefc",
   "metadata": {},
   "outputs": [],
   "source": [
    "person[0][1] = 4\n",
    "\n",
    "# Veränderung des Alters beim ersten Element"
   ]
  },
  {
   "cell_type": "code",
   "execution_count": 6,
   "id": "6b16002b",
   "metadata": {},
   "outputs": [
    {
     "name": "stdout",
     "output_type": "stream",
     "text": [
      "0x2af915b49c0\n"
     ]
    }
   ],
   "source": [
    "print(hex(id(person)))"
   ]
  },
  {
   "cell_type": "markdown",
   "id": "7a9d8651",
   "metadata": {},
   "source": [
    "Im obigen Beispiel sieht man, dass das Objekt \"person\" unveränderlich (IMMUTABLE) ist, da es sich um ein Tupel handelt. Es hat jedoch zwei Listen als Elemente, und wir können den Zustand von Listen ändern (Listen sind veränderbar (MUTABLE)). In diesem Fall haben wir also nicht den Objektverweis innerhalb des Tupels geändert, sondern das referenzierte Objekt wurde geändert."
   ]
  },
  {
   "cell_type": "markdown",
   "id": "254db410",
   "metadata": {},
   "source": [
    "### Mutable mit Immutable"
   ]
  },
  {
   "cell_type": "code",
   "execution_count": 111,
   "id": "238ad819",
   "metadata": {},
   "outputs": [],
   "source": [
    "list1 = [(1, 2, 3), (4, 5, 6)]\n",
    "\n",
    "# Erstelle eine Liste (Mutable) mit zwei Tupeln (Immutable) als Elemente"
   ]
  },
  {
   "cell_type": "code",
   "execution_count": 112,
   "id": "92140a9e",
   "metadata": {
    "scrolled": true
   },
   "outputs": [
    {
     "name": "stdout",
     "output_type": "stream",
     "text": [
      "[(1, 2, 3), (4, 5, 6)]\n"
     ]
    }
   ],
   "source": [
    "print(list1)"
   ]
  },
  {
   "cell_type": "code",
   "execution_count": 113,
   "id": "34e27fee",
   "metadata": {},
   "outputs": [
    {
     "name": "stdout",
     "output_type": "stream",
     "text": [
      "0x26bb2f36a00\n"
     ]
    }
   ],
   "source": [
    "print(hex(id(list1)))"
   ]
  },
  {
   "cell_type": "code",
   "execution_count": 118,
   "id": "4449a250",
   "metadata": {},
   "outputs": [
    {
     "name": "stdout",
     "output_type": "stream",
     "text": [
      "[(8, 9, 10), 10]\n"
     ]
    }
   ],
   "source": [
    "list1[0] = (8,9,10)\n",
    "list1[1] = 10\n",
    "print(list1)\n",
    "\n",
    "# Schreibe beim ersten Element eine neue Tupel und beim zweiten den Wert 10 rein"
   ]
  },
  {
   "cell_type": "code",
   "execution_count": 120,
   "id": "62d46e19",
   "metadata": {},
   "outputs": [
    {
     "name": "stdout",
     "output_type": "stream",
     "text": [
      "0x26bb2f36a00\n"
     ]
    }
   ],
   "source": [
    "print(hex(id(list1)))"
   ]
  },
  {
   "cell_type": "markdown",
   "id": "017a3e6b",
   "metadata": {},
   "source": [
    "# OS"
   ]
  },
  {
   "cell_type": "code",
   "execution_count": 24,
   "id": "6446455a",
   "metadata": {
    "collapsed": true
   },
   "outputs": [
    {
     "data": {
      "text/plain": [
       "'c:\\\\Users\\\\marce\\\\Google Drive\\\\Python\\\\Lernen'"
      ]
     },
     "execution_count": 24,
     "metadata": {},
     "output_type": "execute_result"
    }
   ],
   "source": [
    "# Aktuelles Arbeitsverzeichnis\n",
    "os.getcwd()"
   ]
  },
  {
   "cell_type": "markdown",
   "id": "16382af6",
   "metadata": {},
   "source": [
    "## Pfadarten"
   ]
  },
  {
   "cell_type": "code",
   "execution_count": 53,
   "id": "dda84b2d",
   "metadata": {
    "collapsed": true
   },
   "outputs": [
    {
     "data": {
      "text/plain": [
       "['.ipynb_checkpoints',\n",
       " 'Allgemein_Infos.ipynb',\n",
       " 'dask-worker-space',\n",
       " 'Dask_Infos.ipynb',\n",
       " 'data',\n",
       " 'data_cleaning_challenge.csv',\n",
       " 'Imports.ipynb',\n",
       " 'mydask.png',\n",
       " 'NumPy Tutorial.ipynb',\n",
       " 'Numpy_Infos.ipynb',\n",
       " 'nycflights.tar.gz',\n",
       " 'Pandas_Infos.ipynb',\n",
       " '__DaskJupyterLabExtension.ipynb']"
      ]
     },
     "execution_count": 53,
     "metadata": {},
     "output_type": "execute_result"
    }
   ],
   "source": [
    "os.listdir(\".\") # Relativer Pfad"
   ]
  },
  {
   "cell_type": "code",
   "execution_count": 60,
   "id": "890bfaa3",
   "metadata": {
    "collapsed": true
   },
   "outputs": [
    {
     "data": {
      "text/plain": [
       "['.ipynb_checkpoints',\n",
       " 'Allgemein_Infos.ipynb',\n",
       " 'dask-worker-space',\n",
       " 'Dask_Infos.ipynb',\n",
       " 'data',\n",
       " 'data_cleaning_challenge.csv',\n",
       " 'Imports.ipynb',\n",
       " 'mydask.png',\n",
       " 'NumPy Tutorial.ipynb',\n",
       " 'Numpy_Infos.ipynb',\n",
       " 'nycflights.tar.gz',\n",
       " 'Pandas_Infos.ipynb',\n",
       " '__DaskJupyterLabExtension.ipynb']"
      ]
     },
     "execution_count": 60,
     "metadata": {},
     "output_type": "execute_result"
    }
   ],
   "source": [
    "os.listdir(\"/Users/marce/Google Drive/Python/Lernen\") # Absoluter Pfad"
   ]
  },
  {
   "cell_type": "markdown",
   "id": "1493e480",
   "metadata": {},
   "source": [
    "## Verzeichnis erstellen"
   ]
  },
  {
   "cell_type": "code",
   "execution_count": 51,
   "id": "8de99e24",
   "metadata": {},
   "outputs": [],
   "source": [
    "os.makedirs(\"./data/allgemein\", exist_ok=True)"
   ]
  },
  {
   "cell_type": "code",
   "execution_count": 58,
   "id": "4b5a531b",
   "metadata": {},
   "outputs": [
    {
     "data": {
      "text/plain": [
       "True"
      ]
     },
     "execution_count": 58,
     "metadata": {},
     "output_type": "execute_result"
    }
   ],
   "source": [
    "\"allgemein\" in os.listdir(\"./data\") # Wurde das Verzeichnis erstellt ?"
   ]
  },
  {
   "cell_type": "code",
   "execution_count": 9,
   "id": "060c9b1d",
   "metadata": {},
   "outputs": [],
   "source": [
    "url1 = 'https://gist.githubusercontent.com/aakashns/257f6e6c8719c17d0e498ea287d1a386/raw/7def9ef4234ddf0bc82f855ad67dac8b971852ef/loans1.txt'\n",
    "url2 = 'https://gist.githubusercontent.com/aakashns/257f6e6c8719c17d0e498ea287d1a386/raw/7def9ef4234ddf0bc82f855ad67dac8b971852ef/loans2.txt'\n",
    "url3 = 'https://gist.githubusercontent.com/aakashns/257f6e6c8719c17d0e498ea287d1a386/raw/7def9ef4234ddf0bc82f855ad67dac8b971852ef/loans3.txt'"
   ]
  },
  {
   "cell_type": "markdown",
   "id": "5c19aec5",
   "metadata": {},
   "source": [
    " Die heruntergeladenen Dateien in das neu erstellte Verzeichnis laden"
   ]
  },
  {
   "cell_type": "code",
   "execution_count": 7,
   "id": "adcdc67f",
   "metadata": {},
   "outputs": [
    {
     "data": {
      "text/plain": [
       "('./data/allgemein/loans1.txt', <http.client.HTTPMessage at 0x18549487cd0>)"
      ]
     },
     "execution_count": 7,
     "metadata": {},
     "output_type": "execute_result"
    }
   ],
   "source": [
    "urlretrieve(url1, './data/allgemein/loans1.txt')"
   ]
  },
  {
   "cell_type": "code",
   "execution_count": 10,
   "id": "7c1f5987",
   "metadata": {},
   "outputs": [
    {
     "data": {
      "text/plain": [
       "('./data/allgemein/loans2.txt', <http.client.HTTPMessage at 0x18549701fa0>)"
      ]
     },
     "execution_count": 10,
     "metadata": {},
     "output_type": "execute_result"
    }
   ],
   "source": [
    "urlretrieve(url2, './data/allgemein/loans2.txt')"
   ]
  },
  {
   "cell_type": "code",
   "execution_count": 11,
   "id": "730ce106",
   "metadata": {},
   "outputs": [
    {
     "data": {
      "text/plain": [
       "('./data/allgemein/loans3.txt', <http.client.HTTPMessage at 0x1854c2a7e20>)"
      ]
     },
     "execution_count": 11,
     "metadata": {},
     "output_type": "execute_result"
    }
   ],
   "source": [
    "urlretrieve(url3, './data/allgemein/loans3.txt')"
   ]
  },
  {
   "cell_type": "code",
   "execution_count": 12,
   "id": "c5ddec1b",
   "metadata": {},
   "outputs": [
    {
     "data": {
      "text/plain": [
       "['loans1.txt', 'loans2.txt', 'loans3.txt']"
      ]
     },
     "execution_count": 12,
     "metadata": {},
     "output_type": "execute_result"
    }
   ],
   "source": [
    "os.listdir(\"./data/allgemein/\")"
   ]
  },
  {
   "cell_type": "markdown",
   "id": "6a48a98f",
   "metadata": {},
   "source": [
    "## Lesen von einer Datei"
   ]
  },
  {
   "cell_type": "code",
   "execution_count": 34,
   "id": "2d3071de",
   "metadata": {},
   "outputs": [],
   "source": [
    "file1 = open('./data/allgemein/loans1.txt', mode='r')"
   ]
  },
  {
   "cell_type": "code",
   "execution_count": 35,
   "id": "705a682d",
   "metadata": {},
   "outputs": [],
   "source": [
    "file1_contents = file1.read()"
   ]
  },
  {
   "cell_type": "markdown",
   "id": "78e66539",
   "metadata": {},
   "source": [
    "The first line of the file is the header, indicating what each of the numbers on the remaining lines represents. Each of the remaining lines provides information about a loan. Thus, the second line 10000,36,0.08,20000 represents a loan with:\n",
    "\n",
    "- an amount of <b>10000 Dollar</b>\n",
    "- duration of <b>36 months</b>\n",
    "- rate of interest of <b>8 percentage per annum</b> and\n",
    "- a down payment of <b>20000 Dollar</b>"
   ]
  },
  {
   "cell_type": "code",
   "execution_count": 36,
   "id": "b296b423",
   "metadata": {},
   "outputs": [
    {
     "name": "stdout",
     "output_type": "stream",
     "text": [
      "amount,duration,rate,down_payment\n",
      "100000,36,0.08,20000\n",
      "200000,12,0.1,\n",
      "628400,120,0.12,100000\n",
      "4637400,240,0.06,\n",
      "42900,90,0.07,8900\n",
      "916000,16,0.13,\n",
      "45230,48,0.08,4300\n",
      "991360,99,0.08,\n",
      "423000,27,0.09,47200\n"
     ]
    }
   ],
   "source": [
    "print(file1_contents)"
   ]
  },
  {
   "cell_type": "code",
   "execution_count": 37,
   "id": "8727bf8b",
   "metadata": {},
   "outputs": [],
   "source": [
    "file1.close()"
   ]
  },
  {
   "cell_type": "code",
   "execution_count": 38,
   "id": "6594f112",
   "metadata": {
    "collapsed": true
   },
   "outputs": [
    {
     "ename": "ValueError",
     "evalue": "I/O operation on closed file.",
     "output_type": "error",
     "traceback": [
      "\u001b[1;31m---------------------------------------------------------------------------\u001b[0m",
      "\u001b[1;31mValueError\u001b[0m                                Traceback (most recent call last)",
      "\u001b[1;32m<ipython-input-38-7fa98e4f1004>\u001b[0m in \u001b[0;36m<module>\u001b[1;34m\u001b[0m\n\u001b[1;32m----> 1\u001b[1;33m \u001b[0mfile1\u001b[0m\u001b[1;33m.\u001b[0m\u001b[0mread\u001b[0m\u001b[1;33m(\u001b[0m\u001b[1;33m)\u001b[0m\u001b[1;33m\u001b[0m\u001b[1;33m\u001b[0m\u001b[0m\n\u001b[0m",
      "\u001b[1;31mValueError\u001b[0m: I/O operation on closed file."
     ]
    }
   ],
   "source": [
    "file1.read() "
   ]
  },
  {
   "cell_type": "markdown",
   "id": "d6f40583",
   "metadata": {},
   "source": [
    "Nach dem eine Datei geschlossen wurde, kann sie nicht mehr benutzt werden."
   ]
  },
  {
   "cell_type": "markdown",
   "id": "c81b38bf",
   "metadata": {},
   "source": [
    "## Dateien automatisch lesen und schließen (with)"
   ]
  },
  {
   "cell_type": "code",
   "execution_count": null,
   "id": "cb94a643",
   "metadata": {
    "collapsed": true
   },
   "outputs": [
    {
     "name": "stdout",
     "output_type": "stream",
     "text": [
      "amount,duration,rate,down_payment\n",
      "828400,120,0.11,100000\n",
      "4633400,240,0.06,\n",
      "42900,90,0.08,8900\n",
      "983000,16,0.14,\n",
      "15230,48,0.07,4300\n"
     ]
    }
   ],
   "source": [
    "with open('./data/allgemein/loans2.txt') as file2:\n",
    "    file2_contents = file2.read()\n",
    "    print(file2_contents)"
   ]
  },
  {
   "cell_type": "code",
   "execution_count": null,
   "id": "538ebeee",
   "metadata": {
    "collapsed": true
   },
   "outputs": [
    {
     "ename": "ValueError",
     "evalue": "I/O operation on closed file.",
     "output_type": "error",
     "traceback": [
      "\u001b[1;31m---------------------------------------------------------------------------\u001b[0m",
      "\u001b[1;31mValueError\u001b[0m                                Traceback (most recent call last)",
      "\u001b[1;32m<ipython-input-30-4a9205324152>\u001b[0m in \u001b[0;36m<module>\u001b[1;34m\u001b[0m\n\u001b[1;32m----> 1\u001b[1;33m \u001b[0mfile2\u001b[0m\u001b[1;33m.\u001b[0m\u001b[0mread\u001b[0m\u001b[1;33m(\u001b[0m\u001b[1;33m)\u001b[0m\u001b[1;33m\u001b[0m\u001b[1;33m\u001b[0m\u001b[0m\n\u001b[0m",
      "\u001b[1;31mValueError\u001b[0m: I/O operation on closed file."
     ]
    }
   ],
   "source": [
    "file2.read()"
   ]
  },
  {
   "cell_type": "markdown",
   "id": "3684e9ac",
   "metadata": {},
   "source": [
    "## Datei Zeile für Zeile lesen"
   ]
  },
  {
   "cell_type": "code",
   "execution_count": null,
   "id": "c0bd8e8a",
   "metadata": {},
   "outputs": [],
   "source": [
    "with open('./data/allgemein/loans3.txt', 'r') as file3:\n",
    "    file3_lines = file3.readlines()"
   ]
  },
  {
   "cell_type": "code",
   "execution_count": null,
   "id": "a42ec36c",
   "metadata": {
    "collapsed": true
   },
   "outputs": [
    {
     "data": {
      "text/plain": [
       "['amount,duration,rate,down_payment\\n',\n",
       " '45230,48,0.07,4300\\n',\n",
       " '883000,16,0.14,\\n',\n",
       " '100000,12,0.1,\\n',\n",
       " '728400,120,0.12,100000\\n',\n",
       " '3637400,240,0.06,\\n',\n",
       " '82900,90,0.07,8900\\n',\n",
       " '316000,16,0.13,\\n',\n",
       " '15230,48,0.08,4300\\n',\n",
       " '991360,99,0.08,\\n',\n",
       " '323000,27,0.09,4720010000,36,0.08,20000\\n',\n",
       " '528400,120,0.11,100000\\n',\n",
       " '8633400,240,0.06,\\n',\n",
       " '12900,90,0.08,8900']"
      ]
     },
     "execution_count": 32,
     "metadata": {},
     "output_type": "execute_result"
    }
   ],
   "source": [
    "file3_lines"
   ]
  },
  {
   "cell_type": "markdown",
   "id": "4e9f665f",
   "metadata": {},
   "source": [
    "## Verarbeitung von Daten aus Dateien"
   ]
  },
  {
   "cell_type": "code",
   "execution_count": null,
   "id": "0034a8bd",
   "metadata": {},
   "outputs": [],
   "source": [
    "def parse_headers(header_line):\n",
    "    return header_line.strip().split(',')"
   ]
  },
  {
   "cell_type": "markdown",
   "id": "dc277e33",
   "metadata": {},
   "source": [
    "Die strip-Methode entfernt alle zusätzlichen Leerzeichen und das Zeilenumbruchzeichen \\n. Die Split-Methode zerlegt eine Zeichenkette in eine Liste unter Verwendung des angegebenen Trennzeichens (, in diesem Fall)."
   ]
  },
  {
   "cell_type": "code",
   "execution_count": null,
   "id": "30f3cb10",
   "metadata": {},
   "outputs": [
    {
     "data": {
      "text/plain": [
       "'amount,duration,rate,down_payment\\n'"
      ]
     },
     "execution_count": 34,
     "metadata": {},
     "output_type": "execute_result"
    }
   ],
   "source": [
    "file3_lines[0]"
   ]
  },
  {
   "cell_type": "code",
   "execution_count": null,
   "id": "9ab2acff",
   "metadata": {},
   "outputs": [],
   "source": [
    "headers = parse_headers(file3_lines[0])"
   ]
  },
  {
   "cell_type": "code",
   "execution_count": null,
   "id": "4cf6c355",
   "metadata": {},
   "outputs": [
    {
     "data": {
      "text/plain": [
       "['amount', 'duration', 'rate', 'down_payment']"
      ]
     },
     "execution_count": 36,
     "metadata": {},
     "output_type": "execute_result"
    }
   ],
   "source": [
    "headers"
   ]
  },
  {
   "cell_type": "code",
   "execution_count": null,
   "id": "3e0ba66e",
   "metadata": {},
   "outputs": [],
   "source": [
    "def parse_values(data_line):\n",
    "    values = []\n",
    "    for item in data_line.strip().split(','):\n",
    "        values.append(float(item))\n",
    "    return values"
   ]
  },
  {
   "cell_type": "code",
   "execution_count": null,
   "id": "8eb37670",
   "metadata": {},
   "outputs": [
    {
     "data": {
      "text/plain": [
       "'45230,48,0.07,4300\\n'"
      ]
     },
     "execution_count": 38,
     "metadata": {},
     "output_type": "execute_result"
    }
   ],
   "source": [
    "file3_lines[1]"
   ]
  },
  {
   "cell_type": "code",
   "execution_count": null,
   "id": "d12be1f6",
   "metadata": {},
   "outputs": [
    {
     "data": {
      "text/plain": [
       "[45230.0, 48.0, 0.07, 4300.0]"
      ]
     },
     "execution_count": 39,
     "metadata": {},
     "output_type": "execute_result"
    }
   ],
   "source": [
    "parse_values(file3_lines[1])"
   ]
  },
  {
   "cell_type": "code",
   "execution_count": null,
   "id": "171e789f",
   "metadata": {},
   "outputs": [
    {
     "data": {
      "text/plain": [
       "'883000,16,0.14,\\n'"
      ]
     },
     "execution_count": 40,
     "metadata": {},
     "output_type": "execute_result"
    }
   ],
   "source": [
    "file3_lines[2]"
   ]
  },
  {
   "cell_type": "code",
   "execution_count": null,
   "id": "73835684",
   "metadata": {},
   "outputs": [
    {
     "ename": "ValueError",
     "evalue": "could not convert string to float: ''",
     "output_type": "error",
     "traceback": [
      "\u001b[1;31m---------------------------------------------------------------------------\u001b[0m",
      "\u001b[1;31mValueError\u001b[0m                                Traceback (most recent call last)",
      "\u001b[1;32m<ipython-input-41-b170e8564609>\u001b[0m in \u001b[0;36m<module>\u001b[1;34m\u001b[0m\n\u001b[1;32m----> 1\u001b[1;33m \u001b[0mparse_values\u001b[0m\u001b[1;33m(\u001b[0m\u001b[0mfile3_lines\u001b[0m\u001b[1;33m[\u001b[0m\u001b[1;36m2\u001b[0m\u001b[1;33m]\u001b[0m\u001b[1;33m)\u001b[0m\u001b[1;33m\u001b[0m\u001b[1;33m\u001b[0m\u001b[0m\n\u001b[0m",
      "\u001b[1;32m<ipython-input-37-8be4024619c8>\u001b[0m in \u001b[0;36mparse_values\u001b[1;34m(data_line)\u001b[0m\n\u001b[0;32m      2\u001b[0m     \u001b[0mvalues\u001b[0m \u001b[1;33m=\u001b[0m \u001b[1;33m[\u001b[0m\u001b[1;33m]\u001b[0m\u001b[1;33m\u001b[0m\u001b[1;33m\u001b[0m\u001b[0m\n\u001b[0;32m      3\u001b[0m     \u001b[1;32mfor\u001b[0m \u001b[0mitem\u001b[0m \u001b[1;32min\u001b[0m \u001b[0mdata_line\u001b[0m\u001b[1;33m.\u001b[0m\u001b[0mstrip\u001b[0m\u001b[1;33m(\u001b[0m\u001b[1;33m)\u001b[0m\u001b[1;33m.\u001b[0m\u001b[0msplit\u001b[0m\u001b[1;33m(\u001b[0m\u001b[1;34m','\u001b[0m\u001b[1;33m)\u001b[0m\u001b[1;33m:\u001b[0m\u001b[1;33m\u001b[0m\u001b[1;33m\u001b[0m\u001b[0m\n\u001b[1;32m----> 4\u001b[1;33m         \u001b[0mvalues\u001b[0m\u001b[1;33m.\u001b[0m\u001b[0mappend\u001b[0m\u001b[1;33m(\u001b[0m\u001b[0mfloat\u001b[0m\u001b[1;33m(\u001b[0m\u001b[0mitem\u001b[0m\u001b[1;33m)\u001b[0m\u001b[1;33m)\u001b[0m\u001b[1;33m\u001b[0m\u001b[1;33m\u001b[0m\u001b[0m\n\u001b[0m\u001b[0;32m      5\u001b[0m     \u001b[1;32mreturn\u001b[0m \u001b[0mvalues\u001b[0m\u001b[1;33m\u001b[0m\u001b[1;33m\u001b[0m\u001b[0m\n",
      "\u001b[1;31mValueError\u001b[0m: could not convert string to float: ''"
     ]
    }
   ],
   "source": [
    "parse_values(file3_lines[2])"
   ]
  },
  {
   "cell_type": "markdown",
   "id": "8579a1dc",
   "metadata": {},
   "source": [
    "ValueError, weil '' nicht in einen Float umgewandelt werden kann. Die Funktion parse_values kann erweitert werden, um diesen Ausnahmefall zu behandeln."
   ]
  },
  {
   "cell_type": "code",
   "execution_count": null,
   "id": "8a457495",
   "metadata": {},
   "outputs": [],
   "source": [
    "def parse_values(data_line):\n",
    "    values = []\n",
    "    for item in data_line.strip().split(','):\n",
    "        if item == '':\n",
    "            values.append(0.0)\n",
    "        else:\n",
    "            try:\n",
    "                values.append(float(item))\n",
    "            except ValueError:\n",
    "                values.append(item)\n",
    "    return values"
   ]
  },
  {
   "cell_type": "code",
   "execution_count": null,
   "id": "889ae8e9",
   "metadata": {},
   "outputs": [
    {
     "data": {
      "text/plain": [
       "'883000,16,0.14,\\n'"
      ]
     },
     "execution_count": 43,
     "metadata": {},
     "output_type": "execute_result"
    }
   ],
   "source": [
    "file3_lines[2]"
   ]
  },
  {
   "cell_type": "code",
   "execution_count": null,
   "id": "d31d616f",
   "metadata": {},
   "outputs": [
    {
     "data": {
      "text/plain": [
       "[883000.0, 16.0, 0.14, 0.0]"
      ]
     },
     "execution_count": 44,
     "metadata": {},
     "output_type": "execute_result"
    }
   ],
   "source": [
    "parse_values(file3_lines[2])"
   ]
  },
  {
   "cell_type": "markdown",
   "id": "8c6f3552",
   "metadata": {},
   "source": [
    "# Itertools"
   ]
  },
  {
   "cell_type": "markdown",
   "id": "0609328d",
   "metadata": {},
   "source": [
    "- Modul von der Standardbibliothek<br>\n",
    "- Gibt einen Iterator als zurück"
   ]
  },
  {
   "cell_type": "code",
   "execution_count": 2,
   "id": "410ddc94",
   "metadata": {},
   "outputs": [],
   "source": [
    "from itertools import product, permutations, combinations, accumulate, groupby"
   ]
  },
  {
   "cell_type": "markdown",
   "id": "764213aa",
   "metadata": {},
   "source": [
    "## Product"
   ]
  },
  {
   "cell_type": "code",
   "execution_count": 5,
   "id": "8bc2d26b",
   "metadata": {},
   "outputs": [
    {
     "name": "stdout",
     "output_type": "stream",
     "text": [
      "[(1, 2), (1, 3), (2, 2), (2, 3)]\n"
     ]
    }
   ],
   "source": [
    "a = [1,2]\n",
    "b = [2,3]\n",
    "\n",
    "prod = product(a,b)\n",
    "print(list(prod))"
   ]
  },
  {
   "cell_type": "code",
   "execution_count": 5,
   "id": "d0fd5b50",
   "metadata": {},
   "outputs": [
    {
     "name": "stdout",
     "output_type": "stream",
     "text": [
      "[(1, 3, 1, 3), (1, 3, 2, 3), (2, 3, 1, 3), (2, 3, 2, 3)]\n"
     ]
    }
   ],
   "source": [
    "a = [1,2]\n",
    "b = [3]\n",
    "\n",
    "prod = product(a,b, repeat=2)\n",
    "print(list(prod))"
   ]
  },
  {
   "cell_type": "markdown",
   "id": "96189b13",
   "metadata": {},
   "source": [
    "## Permutation"
   ]
  },
  {
   "cell_type": "code",
   "execution_count": 15,
   "id": "8d3c4826",
   "metadata": {},
   "outputs": [
    {
     "name": "stdout",
     "output_type": "stream",
     "text": [
      "[(1, 2, 3), (1, 3, 2), (2, 1, 3), (2, 3, 1), (3, 1, 2), (3, 2, 1)]\n"
     ]
    }
   ],
   "source": [
    "# Alle Permutationsmöglichkeiten\n",
    "a = [1,2,3]\n",
    "perm = permutations(a)\n",
    "print(list(perm))"
   ]
  },
  {
   "cell_type": "code",
   "execution_count": 16,
   "id": "629817fa",
   "metadata": {},
   "outputs": [
    {
     "name": "stdout",
     "output_type": "stream",
     "text": [
      "[(1, 2), (1, 3), (2, 1), (2, 3), (3, 1), (3, 2)]\n"
     ]
    }
   ],
   "source": [
    "a = [1,2,3]\n",
    "perm = permutations(a, r=2) # r gibt an wie viel Elemente pro Eintrag verwendet werden sollen \n",
    "print(list(perm))"
   ]
  },
  {
   "cell_type": "markdown",
   "id": "cf00a7a3",
   "metadata": {},
   "source": [
    "## Combinations"
   ]
  },
  {
   "cell_type": "code",
   "execution_count": 21,
   "id": "2e3c0e88",
   "metadata": {},
   "outputs": [
    {
     "name": "stdout",
     "output_type": "stream",
     "text": [
      "[(1, 2), (1, 3), (2, 3)]\n"
     ]
    }
   ],
   "source": [
    "# Einzigartige Kombinationen\n",
    "a = [1,2,3]\n",
    "comb = combinations(a,2)\n",
    "print(list(comb))"
   ]
  },
  {
   "cell_type": "code",
   "execution_count": 23,
   "id": "cbf1aefc",
   "metadata": {},
   "outputs": [
    {
     "name": "stdout",
     "output_type": "stream",
     "text": [
      "[(1, 1), (1, 2), (1, 3), (2, 2), (2, 3), (3, 3)]\n"
     ]
    }
   ],
   "source": [
    "from itertools import combinations_with_replacement\n",
    "\n",
    "# Kombinationen mit zurücklegen\n",
    "a = [1,2,3]\n",
    "comb_wr = combinations_with_replacement(a,2)\n",
    "print(list(comb_wr))"
   ]
  },
  {
   "cell_type": "markdown",
   "id": "4b4706b4",
   "metadata": {},
   "source": [
    "## Accumulate"
   ]
  },
  {
   "cell_type": "code",
   "execution_count": 26,
   "id": "e3527677",
   "metadata": {},
   "outputs": [
    {
     "name": "stdout",
     "output_type": "stream",
     "text": [
      "[1, 2, 3, 4]\n",
      "[1, 3, 6, 10]\n"
     ]
    }
   ],
   "source": [
    "a = [1,2,3,4]\n",
    "acc = accumulate(a)\n",
    "print(a)\n",
    "print(list(acc))\n",
    "# 1+2 = 3, 3+3 = 6, 6+4 = 10"
   ]
  },
  {
   "cell_type": "code",
   "execution_count": 28,
   "id": "39bb4385",
   "metadata": {},
   "outputs": [
    {
     "name": "stdout",
     "output_type": "stream",
     "text": [
      "[1, 2, 3, 4]\n",
      "[1, 2, 6, 24]\n"
     ]
    }
   ],
   "source": [
    "import operator\n",
    "\n",
    "a = [1,2,3,4]\n",
    "acc = accumulate(a, func=operator.mul) # Multiplikation\n",
    "print(a)\n",
    "print(list(acc))"
   ]
  },
  {
   "cell_type": "code",
   "execution_count": 29,
   "id": "5ab36c92",
   "metadata": {},
   "outputs": [
    {
     "name": "stdout",
     "output_type": "stream",
     "text": [
      "[1, 2, 55, 3, 4]\n",
      "[1, 2, 55, 55, 55]\n"
     ]
    }
   ],
   "source": [
    "a = [1,2,55,3,4]\n",
    "acc = accumulate(a, func=max) # Maximaler Wert\n",
    "print(a)\n",
    "print(list(acc))"
   ]
  },
  {
   "cell_type": "code",
   "execution_count": 35,
   "id": "e8fa4b79",
   "metadata": {},
   "outputs": [
    {
     "name": "stdout",
     "output_type": "stream",
     "text": [
      "[1, 2, 55, 3, 4]\n",
      "[1, 2, 55, 55, 55]\n"
     ]
    }
   ],
   "source": [
    "a = [1,2,55,3,4]\n",
    "acc = accumulate(a, func=max) # Maximaler Wert\n",
    "print(a)\n",
    "print(list(acc))"
   ]
  },
  {
   "cell_type": "markdown",
   "id": "12015b13",
   "metadata": {},
   "source": [
    "## Groupby"
   ]
  },
  {
   "cell_type": "code",
   "execution_count": 39,
   "id": "7658c46d",
   "metadata": {},
   "outputs": [
    {
     "name": "stdout",
     "output_type": "stream",
     "text": [
      "False [1, 2]\n",
      "True [55, 3, 4]\n"
     ]
    }
   ],
   "source": [
    "a = [1,2,55,3,4]\n",
    "groub_by = groupby(a, key=lambda x: x >= 3)\n",
    "for key,value in groub_by:\n",
    "    print(key, list(value))\n"
   ]
  },
  {
   "cell_type": "code",
   "execution_count": null,
   "id": "44221546",
   "metadata": {},
   "outputs": [],
   "source": [
    "!!! TO-DO !!!\n",
    "\n",
    "- [ ] Lambda/map()-Funktion - Video zu Lambda weiter schauen (8:37 , https://www.youtube.com/watch?v=Ob9rY6PQMfI)\n",
    "- [ ] Comprehension/Set noch machen - Video (https://www.youtube.com/watch?v=3dt4OGnU5sM)\n",
    "\n",
    "# Imports\n",
    "\n",
    "%run Imports.ipynb\n",
    "\n",
    "# %time vs %timeit\n",
    "\n",
    "%timeit sum(range(100000))\n",
    "\n",
    "\n",
    "%time sum(range(100000))\n",
    "\n",
    "# &ast;args und &ast;&ast;kwargs\n",
    "\n",
    "In Python kann eine variable Anzahl von Argumenten an eine Funktion übergeben werdeb, indem man spezielle Symbole verwenden. Es gibt zwei spezielle Symbole:<br>\n",
    "<br>\n",
    "<dl>\n",
    "    <dt>- &ast;args <b>(Argument)</b>  (Nicht-Schlüsselwort-Argumente)</dt>\n",
    "    <dt>- &ast;&ast;kwargs <b>(Keyword argument)</b> (Schlüsselwort-Argumente)</dt>\n",
    "</dl>\n",
    "&ast;args und &ast;&ast;kwargs werden verwendet als Argument/Parameter, wenn man sich nicht sicher ist, wie viele Argumente/Parameter an die Funktion übergeben werden sollen.\n",
    "\n",
    "\n",
    "## Beispiel &#42;args\n",
    "\n",
    "def adder(x,y,z):\n",
    "    print(\"sum:\",x+y+z)\n",
    "\n",
    "adder(5,10,15,20,25)\n",
    "\n",
    "def adder(*num):\n",
    "    sum = 0\n",
    "    \n",
    "    for n in num:\n",
    "        sum = sum + n\n",
    "\n",
    "    print(\"Sum:\",sum)\n",
    "    \n",
    "adder(3,4)\n",
    "adder(10,10,10,10)\n",
    "\n",
    "## Beispiel &#42;&#42;kwargs\n",
    "\n",
    "def intro(**data):\n",
    "    print(\"\\nData type of argument:\",type(data))\n",
    "\n",
    "    for key, value in data.items():\n",
    "        print(\"{0} is {1}\".format(key,value))\n",
    "\n",
    "intro(Firstname=\"Sabrina\", Lastname=\"Mayer\", Age=22, Phone=1234567890)\n",
    "intro(Firstname=\"Max\", Lastname=\"Mueller\", Email=\"johnwood@nomail.com\", Country=\"USA\", Age=25, Phone=9876543210)\n",
    "\n",
    "# Comprehensions\n",
    "\n",
    "Bietet eine kürzere und verständliche Syntax um verschiedene Formen von Listen zu erstellen\n",
    "\n",
    "## Dictionary\n",
    "\n",
    "<b>Beispiel</b>\n",
    "<br>\n",
    "Ein {\"name\":\"heros\"} für jeden Namen/Helden in zip(names,heros)\n",
    "\n",
    "names = [\"Bruce\", \"Clark\", \"Peter\", \"Logan\", \"Wade\"]\n",
    "heros = [\"Batman\", \"Superman\", \"Spiderman\", \"Wolverine\", \"Deadpool\"]\n",
    "print(dict(zip(names,heros)))\n",
    "\n",
    "# Ohne Comprehension\n",
    "my_dict = {}\n",
    "for name,hero in zip(names,heros):\n",
    "    my_dict[name] = hero\n",
    "print(my_dict)\n",
    "\n",
    "# Mit Comprehension\n",
    "my_dict_2 = {name_2:hero_2 for name_2, hero_2 in zip(names,heros)}\n",
    "print(my_dict_2)\n",
    "\n",
    "## List\n",
    "\n",
    "nums = [1, 2, 3, 4, 5, 6, 7, 8, 9, 10]\n",
    "\n",
    "<b>Beispiel:</b>\n",
    "<br>\n",
    "Jedes Element in nums einer neuen Liste zuweisen\n",
    "\n",
    "# Ohne Comprehension\n",
    "my_list = []\n",
    "for n in nums:\n",
    "    my_list.append(n)\n",
    "print(my_list)\n",
    "\n",
    "# Mit Comprehension\n",
    "my_list = [n for n in nums]\n",
    "print(my_list)\n",
    "\n",
    "<b>Beispiel:</b>\n",
    "<br>\n",
    "Quadrat von jedem Element in nums in eine neue Liste schreiben\n",
    "\n",
    "# Ohne Comprehension\n",
    "my_list = []\n",
    "for n in nums:\n",
    "    my_list.append(n*n)\n",
    "print(my_list)\n",
    "\n",
    "# Mit Comprehension\n",
    "my_list = [n*n for n in nums]\n",
    "print(my_list)\n",
    "\n",
    "# Alternative mit lambda + map\n",
    "\n",
    "my_list = map(lambda x: x*x, nums)\n",
    "print(list(my_list))\n",
    "\n",
    "# Muss in eine Liste gemacht werden (Gibt ein Iterator zurück)\n",
    "# Versionsabhängig (Python2 Liste, Python3 Iterator)\n",
    "\n",
    "<b>Beispiel:</b>\n",
    "<br>\n",
    "Jedes Element was durch zwei teilbar ist in eine neue Liste schreiben\n",
    "\n",
    "# Ohne Comprehension\n",
    "my_list = []\n",
    "for n in nums:\n",
    "    if n%2 == 0:\n",
    "        my_list.append(n)\n",
    "print(my_list)\n",
    "\n",
    "# Mit Comprehension\n",
    "my_list = [n for n in nums if n%2 == 0]\n",
    "print(my_list)\n",
    "\n",
    "# ALternative mit filter + lambda\n",
    "my_list = filter(lambda x: x%2 == 0, nums)\n",
    "print(list(my_list))\n",
    "\n",
    "<b>Beispiel</b>\n",
    "<br>\n",
    "Ein (Buchstaben, Zahlen) Paar für jeden Buchstaben in \"abcd\" und jeder Zahl in \"0123\"\n",
    "\n",
    "# Ohne Comprehension\n",
    "my_list = []\n",
    "for letter in \"abcd\":\n",
    "    for number in \"0123\":\n",
    "        my_list.append((letter,number))\n",
    "print(my_list)\n",
    "\n",
    "# Mit Comprehension\n",
    "my_list = [(letter,number) for letter in \"abcd\" for number in \"0123\"]\n",
    "print(my_list)\n",
    "\n",
    "## Set\n",
    "\n",
    "<b>Beispiel</b>\n",
    "<br>\n",
    "Jede Zahl aus der Liste in das Set kopieren\n",
    "\n",
    "# Ohne Comprehension\n",
    "nums = [1, 1, 2, 4, 5, 6, 6, 7, 8, 9, 10 ,10]\n",
    "my_set = set()\n",
    "for n in nums:\n",
    "    my_set.add(n)\n",
    "print(my_set)\n",
    "\n",
    "# Mit Comprehension\n",
    "my_set_2 = {n for n in nums}\n",
    "print(my_set_2)\n",
    "\n",
    "\n",
    "\n",
    "# Counter Funktion\n",
    "\n",
    "from collections import Counter\n",
    "\n",
    "x_list = [2,2,3,4,5,5,5,5,5,6,7,3,1,22,22,22,22,22]\n",
    "count_dict = dict().fromkeys(x_list,0)\n",
    "for element in x_list:\n",
    "    count_dict[element] += 1\n",
    "\n",
    "print(count_dict)\n",
    "\n",
    "x = [2,2,3,4,5,5,5,5,5,6,7,3,1,22,22,22,22,22,22]\n",
    "my_list = Counter(x)\n",
    "# print(len(my_list.items()))\n",
    "list_len = len(my_list.items())\n",
    "if(list_len >= 2):\n",
    "    most_com_list = my_list.most_common(2)\n",
    "    print(f\"Zahl mit den meisten Einträge: {most_com_list[0][0]}\")\n",
    "    print(f\"Anzahl der Einträge: {most_com_list[0][1]}\")\n",
    "    print(f\"Es besitzt {list_len} Item(s)\")\n",
    "else:\n",
    "    print(f\"WARNUNG!: Es besitzt nur {list_len} Item(s)\")\n",
    "\n",
    "# Docstring\n",
    "\n",
    "def test():\n",
    "    \"\"\"\n",
    "    Dies ist ein Test:\n",
    "    \n",
    "    Hier könnte ihre Werbung stehen\n",
    "    \"\"\"\n",
    "\n",
    "help(test)\n",
    "\n",
    "# Lambda\n",
    "\n",
    "Aufbau:<br>\n",
    "<br>\n",
    "<b>lambda arguments: expression</b>\n",
    "<br>\n",
    "<br>\n",
    "Wird häufig verwendet zum sortieren oder filtern\n",
    "\n",
    "add_num5 = lambda x: x+5\n",
    "print(add_num5(5))\n",
    "\n",
    "square_num5 = lambda x: x*5\n",
    "print(square_num5(5))\n",
    "\n",
    "get_tens = lambda x: int(x/10)%10\n",
    "print(get_tens(749)) # Gibt die 4 bei 749 aus\n",
    "print(get_tens(92829.4))\n",
    "\n",
    "## map()-Funktion\n",
    "\n",
    "Die map()-Funktion sorgt dafür, das die Lambda-Funktion auf jedes Element angewendet wird\n",
    "\n",
    "ls1 = [1,2,3,4,5,6]\n",
    "ls2 = list(map(lambda x: x ** 2, ls1))\n",
    "print(ls2)\n",
    "\n",
    "## Sortieren\n",
    "\n",
    "### Tupel\n",
    "\n",
    "list1 = [(\"Eier\",3.19), (\"Honig\", 1.89), (\"Chips\", 2.29),(\"Red Bull\", 1.19)]\n",
    "list1.sort(key= lambda x: x[0])\n",
    "print(list1)\n",
    "\n",
    "### Dictionary\n",
    "\n",
    "list2 = [{\"brand\":\"Ford\", \"model\":\"Focus\", \"year\":2010},{\"brand\":\"Fiat\", \"model\":\"Punto\", \"year\":2007},{\"brand\":\"Nissan\", \"model\":\"GT-R\", \"year\":2009}]\n",
    "\n",
    "list2_sorted = sorted(list2, key= lambda x: x[\"model\"])\n",
    "pp.pprint(list2_sorted)\n",
    "\n",
    "## Filtern\n",
    "\n",
    "### Liste mit int-Werten\n",
    "\n",
    "list1 = [1,2,3,4,5,6]\n",
    "list1_filtered = list(filter(lambda x:x%2 == 0, list1))\n",
    "print(list1_filtered)\n",
    "\n",
    "odds = lambda x: x%2 == 1\n",
    "list1 = [1,2,3,4,5,6]\n",
    "list1_filtered = list(filter(odds2, list1))\n",
    "print(list1_filtered)\n",
    "\n",
    "# Mutable vs Immutable\n",
    "\n",
    "<b>MUTABLE OBJECTS</b><br>\n",
    "<dl>\n",
    "    <dt>- Lists</dt>\n",
    "    <dt>- Sets</dt>\n",
    "    <dt>- Dictionaries</dt>\n",
    "    <dt>- Benutzerdefinierte Klassen</dt>\n",
    "</dl>\n",
    "<br>\n",
    "<b>IMMUTABLE OBJECTS </b>\n",
    "<dl>\n",
    "    <dt>- Numbers (Integer, Float, Decimal, Booleans, ...)</dt>\n",
    "    <dt>- Strings</dt>\n",
    "    <dt>- Tuples</dt>\n",
    "    <dt>- Frozen Sets</dt>\n",
    "    <dt>- Benutzerdefinierte Klassen</dt>\n",
    "</dl>\n",
    "\n",
    "## Mutable Beispiel\n",
    "\n",
    "staedte = [\"Berlin\", \"Paris\", \"Tokyo\"]\n",
    "for stadt in staedte:\n",
    "    print(stadt, end=\",\")\n",
    "\n",
    "# Position des erstellten Objekts im Speicher in hexadezimaler Form anzeigen \n",
    "\n",
    "print(hex(id(staedte)))\n",
    "\n",
    "# Hinzufügen einer weiteren Stadt\n",
    "\n",
    "staedte.append(\"Moskau\")\n",
    "for stadt in staedte:\n",
    "    print(stadt, end=\",\")\n",
    "\n",
    "print(hex(id(staedte)))\n",
    "\n",
    "Das obige Beispiel zeigt, dass man in der Lage ist, den internen Zustand des Objekts \"Städte\" zu ändern, indem man eine weitere Stadt \"Moskau\" hinzugefügt hat. Die Speicheradresse des Objekts hat sich nicht geändert.<br>\n",
    "<br>\n",
    "Dies bestätigt, dass kein neues Objekt erstellt wurde, sondern dass dasselbe Objekt verändert oder mutiert wurde. Daher kann man sagen, dass das Objekt, das ein Listentyp mit dem Namen der Referenzvariablen 'staedte' ist, ein <b>MUTABLE OBJECT</b> ist.\n",
    "\n",
    "## Immutable Beispiel\n",
    "\n",
    "foo = (1,2) # Tupel erzeugen\n",
    "\n",
    "foo[0] = 3\n",
    "\n",
    "Ein Objekt, dessen interner Zustand <b>nicht</b> verändert werden kann, ist <b>IMMUTABLE</b>\n",
    "\n",
    "weekdays = \"Sunday\", \"Monday\", \"Tuesday\", \"Wednesday\", \"Thursday\", \"Friday\", \"Saturday\"\n",
    "print(weekdays)\n",
    "\n",
    "print(hex(id(weekdays)))\n",
    "\n",
    "weekdays += (\"Testday\",)\n",
    "print(weekdays)\n",
    "\n",
    "Da Tupel unveränderlich sind, können keine neuen Elemente hinzugefügt werden. Daher wird durch die Zusammenführung von Tupeln mit dem Operator \"+\" ein neuer imaginärer Tag in das Tupel 'weekdays' eingefügt.\n",
    "\n",
    "print(hex(id(weekdays)))\n",
    "\n",
    "Das obige Beispiel mit den Wochentagen zeigt, dass man in der Lage ist, denselben Variablennamen zu verwenden, der auf ein Objekt verweist, das eine Art Tupel mit sieben Elementen ist. Die ID oder der Speicherort des alten und neuen Tupels ist jedoch nicht identisch. <br>\n",
    "<br>\n",
    "Man ist nicht in der Lage, den internen Zustand des Objekts \"weekdays\" zu ändern. Python legt ein neues Objekt in der Speicheradresse an, und die Variable \"weekdays\" hat begonnen, auf das neue Objekt mit acht Elementen zu verweisen.<br>\n",
    "Daher kann man sagen, dass das Objekt vom Typ Tupel mit der Referenzvariablen 'weekdays' ein IMMUTABLE OBJEKT ist.\n",
    "\n",
    "## Immutable + Mutable Beispiele\n",
    "\n",
    "### Immutable mit Mutable\n",
    "\n",
    "person = (['Sebastian', 5, 'Maennlich'], ['Sandra', 8, 'Weiblich'])\n",
    "\n",
    "# Erstelle eine Tupel (Immutable) mit zwei Listen (mutable) als Elemente\n",
    "\n",
    "print(person)\n",
    "\n",
    "print(hex(id(person)))\n",
    "\n",
    "person[0][1] = 4\n",
    "\n",
    "# Veränderung des Alters beim ersten Element\n",
    "\n",
    "print(hex(id(person)))\n",
    "\n",
    "Im obigen Beispiel sieht man, dass das Objekt \"person\" unveränderlich (IMMUTABLE) ist, da es sich um ein Tupel handelt. Es hat jedoch zwei Listen als Elemente, und wir können den Zustand von Listen ändern (Listen sind veränderbar (MUTABLE)). In diesem Fall haben wir also nicht den Objektverweis innerhalb des Tupels geändert, sondern das referenzierte Objekt wurde geändert.\n",
    "\n",
    "### Mutable mit Immutable\n",
    "\n",
    "list1 = [(1, 2, 3), (4, 5, 6)]\n",
    "\n",
    "# Erstelle eine Liste (Mutable) mit zwei Tupeln (Immutable) als Elemente\n",
    "\n",
    "print(list1)\n",
    "\n",
    "print(hex(id(list1)))\n",
    "\n",
    "list1[0] = (8,9,10)\n",
    "list1[1] = 10\n",
    "print(list1)\n",
    "\n",
    "# Schreibe beim ersten Element eine neue Tupel und beim zweiten den Wert 10 rein\n",
    "\n",
    "print(hex(id(list1)))\n",
    "\n",
    "# OS\n",
    "\n",
    "# Aktuelles Arbeitsverzeichnis\n",
    "os.getcwd()\n",
    "\n",
    "## Pfadarten\n",
    "\n",
    "os.listdir(\".\") # Relativer Pfad\n",
    "\n",
    "os.listdir(\"/Users/marce/Google Drive/Python/Lernen\") # Absoluter Pfad\n",
    "\n",
    "## Verzeichnis erstellen\n",
    "\n",
    "os.makedirs(\"./data/allgemein\", exist_ok=True)\n",
    "\n",
    "\"allgemein\" in os.listdir(\"./data\") # Wurde das Verzeichnis erstellt ?\n",
    "\n",
    "url1 = 'https://gist.githubusercontent.com/aakashns/257f6e6c8719c17d0e498ea287d1a386/raw/7def9ef4234ddf0bc82f855ad67dac8b971852ef/loans1.txt'\n",
    "url2 = 'https://gist.githubusercontent.com/aakashns/257f6e6c8719c17d0e498ea287d1a386/raw/7def9ef4234ddf0bc82f855ad67dac8b971852ef/loans2.txt'\n",
    "url3 = 'https://gist.githubusercontent.com/aakashns/257f6e6c8719c17d0e498ea287d1a386/raw/7def9ef4234ddf0bc82f855ad67dac8b971852ef/loans3.txt'\n",
    "\n",
    " Die heruntergeladenen Dateien in das neu erstellte Verzeichnis laden\n",
    "\n",
    "urlretrieve(url1, './data/allgemein/loans1.txt')\n",
    "\n",
    "urlretrieve(url2, './data/allgemein/loans2.txt')\n",
    "\n",
    "urlretrieve(url3, './data/allgemein/loans3.txt')\n",
    "\n",
    "os.listdir(\"./data/allgemein/\")\n",
    "\n",
    "## Lesen von einer Datei\n",
    "\n",
    "file1 = open('./data/allgemein/loans1.txt', mode='r')\n",
    "\n",
    "file1_contents = file1.read()\n",
    "\n",
    "The first line of the file is the header, indicating what each of the numbers on the remaining lines represents. Each of the remaining lines provides information about a loan. Thus, the second line 10000,36,0.08,20000 represents a loan with:\n",
    "\n",
    "- an amount of <b>10000 Dollar</b>\n",
    "- duration of <b>36 months</b>\n",
    "- rate of interest of <b>8 percentage per annum</b> and\n",
    "- a down payment of <b>20000 Dollar</b>\n",
    "\n",
    "print(file1_contents)\n",
    "\n",
    "file1.close()\n",
    "\n",
    "file1.read() \n",
    "\n",
    "Nach dem eine Datei geschlossen wurde, kann sie nicht mehr benutzt werden.\n",
    "\n",
    "## Dateien automatisch lesen und schließen (with)\n",
    "\n",
    "with open('./data/allgemein/loans2.txt') as file2:\n",
    "    file2_contents = file2.read()\n",
    "    print(file2_contents)\n",
    "\n",
    "file2.read()\n",
    "\n",
    "## Datei Zeile für Zeile lesen\n",
    "\n",
    "with open('./data/allgemein/loans3.txt', 'r') as file3:\n",
    "    file3_lines = file3.readlines()\n",
    "\n",
    "file3_lines\n",
    "\n",
    "## Verarbeitung von Daten aus Dateien\n",
    "\n",
    "def parse_headers(header_line):\n",
    "    return header_line.strip().split(',')\n",
    "\n",
    "Die strip-Methode entfernt alle zusätzlichen Leerzeichen und das Zeilenumbruchzeichen \\n. Die Split-Methode zerlegt eine Zeichenkette in eine Liste unter Verwendung des angegebenen Trennzeichens (, in diesem Fall).\n",
    "\n",
    "file3_lines[0]\n",
    "\n",
    "headers = parse_headers(file3_lines[0])\n",
    "\n",
    "headers\n",
    "\n",
    "def parse_values(data_line):\n",
    "    values = []\n",
    "    for item in data_line.strip().split(','):\n",
    "        values.append(float(item))\n",
    "    return values\n",
    "\n",
    "file3_lines[1]\n",
    "\n",
    "parse_values(file3_lines[1])\n",
    "\n",
    "file3_lines[2]\n",
    "\n",
    "parse_values(file3_lines[2])\n",
    "\n",
    "ValueError, weil '' nicht in einen Float umgewandelt werden kann. Die Funktion parse_values kann erweitert werden, um diesen Ausnahmefall zu behandeln.\n",
    "\n",
    "def parse_values(data_line):\n",
    "    values = []\n",
    "    for item in data_line.strip().split(','):\n",
    "        if item == '':\n",
    "            values.append(0.0)\n",
    "        else:\n",
    "            try:\n",
    "                values.append(float(item))\n",
    "            except ValueError:\n",
    "                values.append(item)\n",
    "    return values\n",
    "\n",
    "file3_lines[2]\n",
    "\n",
    "parse_values(file3_lines[2])\n",
    "\n",
    "# Itertools\n",
    "\n",
    "- Modul von der Standardbibliothek<br>\n",
    "- Gibt einen Iterator als zurück\n",
    "\n",
    "from itertools import product, permutations, combinations, accumulate, groupby\n",
    "\n",
    "## Product\n",
    "\n",
    "a = [1,2]\n",
    "b = [2,3]\n",
    "\n",
    "prod = product(a,b)\n",
    "print(list(prod))\n",
    "\n",
    "a = [1,2]\n",
    "b = [3]\n",
    "\n",
    "prod = product(a,b, repeat=2)\n",
    "print(list(prod))\n",
    "\n",
    "## Permutation\n",
    "\n",
    "# Alle Permutationsmöglichkeiten\n",
    "a = [1,2,3]\n",
    "perm = permutations(a)\n",
    "print(list(perm))\n",
    "\n",
    "a = [1,2,3]\n",
    "perm = permutations(a, r=2) # r gibt an wie viel Elemente pro Eintrag verwendet werden sollen \n",
    "print(list(perm))\n",
    "\n",
    "## Combinations\n",
    "\n",
    "# Einzigartige Kombinationen\n",
    "a = [1,2,3]\n",
    "comb = combinations(a,2)\n",
    "print(list(comb))\n",
    "\n",
    "from itertools import combinations_with_replacement\n",
    "\n",
    "# Kombinationen mit zurücklegen\n",
    "a = [1,2,3]\n",
    "comb_wr = combinations_with_replacement(a,2)\n",
    "print(list(comb_wr))\n",
    "\n",
    "## Accumulate\n",
    "\n",
    "a = [1,2,3,4]\n",
    "acc = accumulate(a)\n",
    "print(a)\n",
    "print(list(acc))\n",
    "# 1+2 = 3, 3+3 = 6, 6+4 = 10\n",
    "\n",
    "import operator\n",
    "\n",
    "a = [1,2,3,4]\n",
    "acc = accumulate(a, func=operator.mul) # Multiplikation\n",
    "print(a)\n",
    "print(list(acc))\n",
    "\n",
    "a = [1,2,55,3,4]\n",
    "acc = accumulate(a, func=max) # Maximaler Wert\n",
    "print(a)\n",
    "print(list(acc))\n",
    "\n",
    "a = [1,2,55,3,4]\n",
    "acc = accumulate(a, func=max) # Maximaler Wert\n",
    "print(a)\n",
    "print(list(acc))\n",
    "\n",
    "## Groupby\n",
    "\n",
    "a = [1,2,55,3,4]\n",
    "groub_by = groupby(a, key=lambda x: x >= 3)\n",
    "for key,value in groub_by:\n",
    "    print(key, list(value))\n"
   ]
  }
 ],
 "metadata": {
  "kernelspec": {
   "display_name": "Python 3 (ipykernel)",
   "language": "python",
   "name": "python3"
  },
  "language_info": {
   "codemirror_mode": {
    "name": "ipython",
    "version": 3
   },
   "file_extension": ".py",
   "mimetype": "text/x-python",
   "name": "python",
   "nbconvert_exporter": "python",
   "pygments_lexer": "ipython3",
   "version": "3.10.0"
  },
  "toc": {
   "base_numbering": 1,
   "nav_menu": {},
   "number_sections": true,
   "sideBar": true,
   "skip_h1_title": false,
   "title_cell": "Table of Contents",
   "title_sidebar": "Contents",
   "toc_cell": true,
   "toc_position": {},
   "toc_section_display": true,
   "toc_window_display": true
  }
 },
 "nbformat": 4,
 "nbformat_minor": 5
}
