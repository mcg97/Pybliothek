{
 "cells": [
  {
   "cell_type": "code",
   "execution_count": 8,
   "metadata": {},
   "outputs": [],
   "source": [
    "x = [2,2,2,44,3,4,4,5,6,7,8,8,8,8,22,22,11,11,11]"
   ]
  },
  {
   "cell_type": "code",
   "execution_count": 9,
   "metadata": {},
   "outputs": [
    {
     "data": {
      "text/plain": [
       "[2, 44, 3, 4, 5, 6, 7, 8, 22, 11]"
      ]
     },
     "execution_count": 9,
     "metadata": {},
     "output_type": "execute_result"
    }
   ],
   "source": [
    "my_list = list(dict().fromkeys(x))\n",
    "my_list"
   ]
  },
  {
   "cell_type": "code",
   "execution_count": 10,
   "metadata": {},
   "outputs": [
    {
     "data": {
      "text/plain": [
       "[2, 3, 4, 5, 6, 7, 8, 11, 44, 22]"
      ]
     },
     "execution_count": 10,
     "metadata": {},
     "output_type": "execute_result"
    }
   ],
   "source": [
    "my_list_2 = list(set(x))\n",
    "my_list_2"
   ]
  },
  {
   "cell_type": "code",
   "execution_count": 18,
   "metadata": {},
   "outputs": [
    {
     "name": "stdout",
     "output_type": "stream",
     "text": [
      "Key: 0 Value:a\n",
      "Key: 1 Value:b\n",
      "Key: 2 Value:c\n",
      "Key: 3 Value:d\n"
     ]
    }
   ],
   "source": [
    "my_dict = {\"a\" : [2,3],\n",
    "           \"b\" : 2,\n",
    "           \"c\" : 4,\n",
    "           \"d\" : 55}\n",
    "\n",
    "for k, v in enumerate(my_dict):\n",
    "    print(f\"Key: {k}\", end=\"\")\n",
    "    print(f\" Value:{v}\")"
   ]
  },
  {
   "cell_type": "code",
   "execution_count": 19,
   "metadata": {},
   "outputs": [
    {
     "data": {
      "text/plain": [
       "[5, 6, 22, 1, 3, 4, 2, 1231]"
      ]
     },
     "execution_count": 19,
     "metadata": {},
     "output_type": "execute_result"
    }
   ],
   "source": [
    "x = [5,6,22,1,1,1,3,3,4,2,1231]\n",
    "x_list_clean = list(dict().fromkeys(x))\n",
    "x_list_clean"
   ]
  },
  {
   "cell_type": "code",
   "execution_count": 127,
   "metadata": {},
   "outputs": [
    {
     "name": "stdout",
     "output_type": "stream",
     "text": [
      "[1, 2, 1, 2, 3, 2, 44, 2, 44, 5, 6, 7, 12, 2, 123, 44, 1231, 23243, 12]\n",
      "[1, 2, 1, 2, 2, 3, 2, 2, 44, 2, 44, 44, 5, 6, 7, 12, 2, 123, 44, 1231, 23243, 12]\n"
     ]
    }
   ],
   "source": [
    "# Bei nicht gleich aufeinanderfolgenden Werten, Wert in Liste schreiben\n",
    "\n",
    "x = [1, 2, 1, 2, 2, 3, 2, 2, 44, 2, 44, 44, 5, 6, 7, 12, 2, 123, 44, 1231, 23243, 12]\n",
    "\n",
    "test_list = list()\n",
    "controll_list = list()\n",
    "\n",
    "for num in enumerate(x):\n",
    "    test_list.append(num[1])\n",
    "    if len(test_list) > 1:\n",
    "        if test_list[num[0]-1] != test_list[num[-2]]:\n",
    "            controll_list.append(test_list[num[0]])\n",
    "    else:  # Erster Wert\n",
    "        controll_list.append(test_list[num[0]])\n",
    "\n",
    "print(controll_list)\n",
    "print(x)\n"
   ]
  }
 ],
 "metadata": {
  "interpreter": {
   "hash": "d98b4cf575a891b97ea43402398b6b9082f9e1cf0f07109cc211caf32ce43040"
  },
  "kernelspec": {
   "display_name": "Python 3.8.8 ('base')",
   "language": "python",
   "name": "python3"
  },
  "language_info": {
   "codemirror_mode": {
    "name": "ipython",
    "version": 3
   },
   "file_extension": ".py",
   "mimetype": "text/x-python",
   "name": "python",
   "nbconvert_exporter": "python",
   "pygments_lexer": "ipython3",
   "version": "3.8.8"
  },
  "orig_nbformat": 4
 },
 "nbformat": 4,
 "nbformat_minor": 2
}
